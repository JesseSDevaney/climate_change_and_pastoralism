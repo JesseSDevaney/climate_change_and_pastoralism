{
 "cells": [
  {
   "cell_type": "markdown",
   "metadata": {},
   "source": [
    "# Production Code"
   ]
  },
  {
   "cell_type": "code",
   "execution_count": null,
   "metadata": {},
   "outputs": [],
   "source": [
    "import os\n",
    "import re\n",
    "import numpy as np\n",
    "import pandas as pd\n",
    "\n",
    "source_directory = \"../surveys/plain_txt/\""
   ]
  },
  {
   "cell_type": "markdown",
   "metadata": {},
   "source": [
    "## Extract\n",
    "### Helper Functions"
   ]
  },
  {
   "cell_type": "code",
   "execution_count": null,
   "metadata": {},
   "outputs": [],
   "source": [
    "def find_between(str_1, str_2, contents):\n",
    "    regex_between = str_1 + r\"([\\w\\W]*)\" + str_2\n",
    "    regex_search = re.findall(regex_between, contents)\n",
    "    \n",
    "    return regex_search"
   ]
  },
  {
   "cell_type": "markdown",
   "metadata": {},
   "source": [
    "### Parsing Functions"
   ]
  },
  {
   "cell_type": "code",
   "execution_count": null,
   "metadata": {},
   "outputs": [],
   "source": [
    "def parse_interviewee(contents):\n",
    "    name_regex = r\"nombre de la persona[^\\n:]*:[\\s]*([^\\n]*)\\n\"\n",
    "    name_search = re.findall(name_regex, contents)\n",
    "    if len(name_search) == 1:\n",
    "        name = name_search[0]\n",
    "        if name == \"3\":\n",
    "            name = \"N/A\"\n",
    "    else:\n",
    "        alt_name_regex = r\"nombre de la persona[^\\n\\(]*\\(\\w* +([^\\n]*)\\n\"\n",
    "        alt_name_search = re.findall(alt_name_regex, contents)\n",
    "        if len(alt_name_search) == 1:\n",
    "            name = alt_name_search[0]\n",
    "            if name == \"3\":\n",
    "                name = \"N/A\"\n",
    "        else:\n",
    "            name = \"UNENCOUNTERED FORMAT\"\n",
    "\n",
    "    name = name.strip()\n",
    "            \n",
    "    return name\n",
    "\n",
    "\n",
    "def parse_date_range(contents):\n",
    "    date_range = \"\"\n",
    "    \n",
    "    section_start = \"v-1: ventas de ganado\"\n",
    "    section_end = \"v-2: ventas de\"\n",
    "    section_search = find_between(section_start, section_end, contents)\n",
    "    \n",
    "    if len(section_search) == 1:\n",
    "        section_string = section_search[0]\n",
    "        \n",
    "        date_regex = r\"([\\w ]+\\d+ *[-–] *[\\w ]+\\d+)\"\n",
    "        date_search = re.findall(date_regex, section_string)\n",
    "        \n",
    "        if len(date_search) == 1:\n",
    "            date_range = date_search[0]\n",
    "        else:\n",
    "            date_range = \"UNENCOUNTERED FORMAT 2\"\n",
    "    else:\n",
    "        date_range = \"UNENCOUNTERED FORMAT\"\n",
    "    \n",
    "    return date_range\n",
    "\n",
    "\n",
    "def parse_section_5_1(contents):\n",
    "    section_5_1_data = []\n",
    "\n",
    "    section_start = \"v-1: ventas de ganado\"\n",
    "    section_end = \"v-2: ventas de\"\n",
    "    section_search = find_between(section_start, section_end, contents)\n",
    "\n",
    "    if len(section_search) == 1:\n",
    "        section_string = section_search[0] + \"v-2:\"\n",
    "\n",
    "        product_list = [\"toro para carne \\/\\n\\nnovillo \\(\\+300 kg\\)\\n\", \"vaca\\n\", \"ternero\\n\", \"vaquilla\\n\", \n",
    "                        \"bovino macho\\n\\nreproductor\\n\", \"llama macho para carne\\n\", \"lama hembra\\n\",\n",
    "                        \"llama macho reproductor\\n\", \"borrego \\(macho joven\\)\\n\", \"cordero\\n\", \"capón\\n\",\n",
    "                        \"oveja\\n\", \"ovino macho adulto\\n\\npara carne\\n\", \n",
    "                        \"ovino macho reproductor\\n\", \"chivo \\(macho adulto\\)\\n\", \n",
    "                        \"caprino reproductor macho\\n\\nadulto \\(castrón\\)\\n\",\n",
    "                        \"cabra \\(hembra\\)\\n\", \"chivo capón \\(castrado\\)\\n\", \"cabrito \\/ chivito mamón\\n\",\n",
    "                        \"cabrito \\/ chivito lechón\\n\", \"burro macho\\n\", \"burro hembra\\n\",\n",
    "                        \"equino macho reproductor\\n\", \"equino macho para carne\\n\",\n",
    "                        \"equino hembra \\/ yegua\\n\", \"potrillo \\/ potranca\\n\", \n",
    "                        \"equino manso \\(macho \\/ hembra\\)\\n\", \"mular\\n\", \n",
    "                        \"cerdo macho reproductor \\(padrillo\\)\\n\", \"cerda \\(madre\\) hembra\\n\", \n",
    "                        \"maltón \\(cachorro\\)\\n\", \"cerdo capón \\(castrado\\) \\/ cerda para\\n\\ncarne\\n\",\n",
    "                        \"lechón \\/ lechona\\n\", \"cerdo macho adulto para carne\\n\", \"v-2:\"]\n",
    "        translation_list = [\"bull_or_steer_for_meat_300_+_kg\" ,\"cow\", \"calf\",\n",
    "                            \"heifer\", \"male_bovine_breeding\", \n",
    "                            \"male_llama_for_meat\", \"female_llama\", \n",
    "                            \"male_llama_breeding\", \"male_sheep_young\", \"lamb\",\n",
    "                            \"capon\", \"female_sheep\" ,\"male_sheep_adult_for_meat\",\n",
    "                            \"male_sheep_breeding\", \"male_goat\", \"male_goat_breeding\",\n",
    "                            \"female_goat\", \"male_goat_castrated\", \"goat_young_suckling_mamón\",\n",
    "                            \"goat_young_suckling_lechón\", \"male_donkey\", \"female_donkey\",\n",
    "                            \"male_equine_breeding\", \"male_equine_for_meat\",\n",
    "                            \"female_equine\", \"equine_young\", \"equine_tame\",\n",
    "                            \"mule\", \"male_pig_breeding\", \"female_pig_breeding\",\n",
    "                            \"puppy\", \"male_pig_castrated_or_for_meat\", \"pig_suckling\",\n",
    "                            \"male_pig_for_meat\"]\n",
    "        # column headers not including species column\n",
    "        column_headers = [\"has_sold\", \"month_of_sale_1\", \"number_1\", \n",
    "                          \"unit_price_1\", \"month_of_sale_2\", \"number_2\", \n",
    "                          \"unit_price_2\", \"month_of_sale_3\", \"number_3\",\n",
    "                          \"unit_price_3\", \"market_destination\"]\n",
    "\n",
    "        for i in range(len(product_list)-1):\n",
    "            item_dict = {}\n",
    "            item_1 = product_list[i]\n",
    "            item_2 = product_list[i+1]\n",
    "            term = translation_list[i]\n",
    "\n",
    "            row_search = find_between(item_1, item_2, section_string)\n",
    "\n",
    "            item_dict[\"species\"] = term\n",
    "\n",
    "            # if product row found\n",
    "            if len(row_search) == 1:\n",
    "                row_string = row_search[0]\n",
    "                row_list = row_string.split(\"\\n\")\n",
    "                row_list_len = len(row_list)\n",
    "\n",
    "                # decide whether single newline or double newline formatting\n",
    "                # should be used to parse the information by column\n",
    "                # also check to see if unintentional newlines were added that\n",
    "                # would mess with parsing script\n",
    "                if row_list_len >=26:\n",
    "                    # skip odd indexes (1, 3, 5, 7)\n",
    "                    # drop first two rows (start count at -2)\n",
    "\n",
    "                    count = -3\n",
    "                    if row_list[1] != \"\":\n",
    "                        count = -1\n",
    "                    for j in range(row_list_len):\n",
    "                        if count > 20:\n",
    "                            break;\n",
    "                        if count >= 0 and count % 2 == 0:\n",
    "                            col = column_headers[count//2]\n",
    "                            entry = row_list[j]\n",
    "                            entry = entry.strip()\n",
    "                            item_dict[col] = entry\n",
    "                        count += 1\n",
    "\n",
    "                else:\n",
    "                    for col in column_headers:\n",
    "                        item_dict[col] = \"UNENCOUNTERED FORMAT\"\n",
    "            else:\n",
    "                for col in column_headers:\n",
    "                    item_dict[col] = \"UNENCOUNTERED FORMAT\"\n",
    "\n",
    "            section_5_1_data.append(item_dict)\n",
    "    else:\n",
    "        section_5_1_data = [{}]\n",
    "    \n",
    "    return section_5_1_data"
   ]
  },
  {
   "cell_type": "markdown",
   "metadata": {},
   "source": [
    "### Process the Whole File"
   ]
  },
  {
   "cell_type": "code",
   "execution_count": null,
   "metadata": {},
   "outputs": [],
   "source": [
    "def process_files(source_directory):\n",
    "    dataset = []\n",
    "\n",
    "    for process_file in os.listdir(source_directory):\n",
    "        file_path = os.path.join(source_directory, process_file)\n",
    "\n",
    "        # with statements automatically control the closing of files\n",
    "        with open(file_path, \"r\") as file:\n",
    "            contents = file.read()\n",
    "            contents = contents.lower()\n",
    "\n",
    "            data_dict = {}\n",
    "\n",
    "            interviewee = parse_interviewee(contents)\n",
    "            date_range = parse_date_range(contents)\n",
    "            \n",
    "            section_5_1_data = parse_section_5_1(contents)\n",
    "            \n",
    "            # develop a check to make sure files contain the right amount\n",
    "            # of parsed entries\n",
    "            if len(section_5_1_data) != 34:\n",
    "                print(f\"Unencountered Format: {process_file}\\n\"\n",
    "                      + f\"Length of outflow_data: {len(section_5_1_data)}\\n\")\n",
    "            \n",
    "            for row in section_5_1_data:\n",
    "                data_dict = {}\n",
    "                data_dict[\"filename\"] = process_file\n",
    "                data_dict[\"interviewee\"] = interviewee\n",
    "                data_dict[\"date_range\"] = date_range\n",
    "                \n",
    "                for key, value in row.items():\n",
    "                    data_dict[key] = value\n",
    "\n",
    "                dataset.append(data_dict)\n",
    "\n",
    "                \n",
    "    # convert list to DataFrame\n",
    "    raw_df = pd.DataFrame(data=dataset)\n",
    "\n",
    "    return raw_df"
   ]
  },
  {
   "cell_type": "markdown",
   "metadata": {},
   "source": [
    "## Transform"
   ]
  },
  {
   "cell_type": "markdown",
   "metadata": {},
   "source": [
    "### Helper Functions"
   ]
  },
  {
   "cell_type": "code",
   "execution_count": null,
   "metadata": {},
   "outputs": [],
   "source": [
    "def transform_date_range(dataf):\n",
    "    replace_dict = {\"agosto 2018 - agosto 2019\": \"august 2018-2019\",\n",
    "                    \"septiembre 2018 - septiembre 2019\": \"september 2018-2019\",\n",
    "                    \"octubre 2018 – octubre 2019\": \"october 2018-2019\",\n",
    "                    \"octubre 2018 - octubre 2019\": \"october 2018-2019\",\n",
    "                    \"octubre 2018 - octubre2019\": \"october 2018-2019\"}\n",
    "    dataf[\"date_range\"] = dataf[\"date_range\"].replace(replace_dict)\n",
    "    \n",
    "    return dataf"
   ]
  },
  {
   "cell_type": "markdown",
   "metadata": {},
   "source": [
    "### Pipeline Functions"
   ]
  },
  {
   "cell_type": "code",
   "execution_count": null,
   "metadata": {},
   "outputs": [],
   "source": [
    "def start_pipeline(dataf):\n",
    "    return dataf.copy() \n",
    "\n",
    "\n",
    "def transform_values(dataf):\n",
    "    dataf = transform_date_range(dataf)\n",
    "    \n",
    "    return dataf"
   ]
  },
  {
   "cell_type": "markdown",
   "metadata": {},
   "source": [
    "### Create Raw and Cleaned DataFrame"
   ]
  },
  {
   "cell_type": "code",
   "execution_count": null,
   "metadata": {},
   "outputs": [],
   "source": [
    "raw_df = process_files(source_directory)\n",
    "\n",
    "clean_df = (raw_df\n",
    "            .pipe(start_pipeline)\n",
    "            .pipe(transform_values))"
   ]
  },
  {
   "cell_type": "markdown",
   "metadata": {},
   "source": [
    "## Load\n",
    "### Export to CSV"
   ]
  },
  {
   "cell_type": "code",
   "execution_count": null,
   "metadata": {},
   "outputs": [],
   "source": [
    "datasets_directory = \"../datasets/\"\n",
    "filename = \"section_5_1.csv\"\n",
    "file_path = os.path.join(datasets_directory, filename)\n",
    "\n",
    "clean_df.to_csv(file_path, index=False, na_rep=\"null\")"
   ]
  },
  {
   "cell_type": "markdown",
   "metadata": {},
   "source": [
    "## Other\n",
    "### Functions to Check the Implementation"
   ]
  },
  {
   "cell_type": "code",
   "execution_count": null,
   "metadata": {},
   "outputs": [],
   "source": [
    "def get_dropped_df(raw_dataf, clean_dataf):\n",
    "    raw_indexes = raw_dataf.index\n",
    "    clean_indexes = clean_dataf.index\n",
    "    \n",
    "    dropped_indexes = raw_indexes[~raw_indexes.isin(clean_indexes)]\n",
    "    dropped_df = raw_dataf.loc[dropped_indexes].copy()\n",
    "\n",
    "    return dropped_df"
   ]
  },
  {
   "cell_type": "markdown",
   "metadata": {},
   "source": [
    "### Create Dropped DataFrame"
   ]
  },
  {
   "cell_type": "code",
   "execution_count": null,
   "metadata": {},
   "outputs": [],
   "source": [
    "dropped_df = get_dropped_df(raw_df, clean_df)"
   ]
  },
  {
   "cell_type": "markdown",
   "metadata": {},
   "source": [
    "***\n",
    "# Testing Code\n",
    "### View the Data"
   ]
  },
  {
   "cell_type": "code",
   "execution_count": null,
   "metadata": {},
   "outputs": [],
   "source": [
    "clean_df.head(50)"
   ]
  },
  {
   "cell_type": "markdown",
   "metadata": {},
   "source": [
    "### Check for Parsing Errors"
   ]
  },
  {
   "cell_type": "code",
   "execution_count": null,
   "metadata": {},
   "outputs": [],
   "source": [
    "clean_df[clean_df[\"has_sold\"] == \"UNENCOUNTERED FORMAT\"]"
   ]
  },
  {
   "cell_type": "code",
   "execution_count": null,
   "metadata": {},
   "outputs": [],
   "source": [
    "cols_to_check = clean_df.columns\n",
    "cols_to_drop = [\"filename\", \"interviewee\"]\n",
    "\n",
    "cols_to_check = cols_to_check.drop(cols_to_drop)\n",
    "\n",
    "for col in cols_to_check:\n",
    "    print(\"*\" * 50)\n",
    "    print(\" \" * 5 + col)\n",
    "    print(clean_df[col].value_counts(dropna=False))\n",
    "    print(\"*\" * 50)\n",
    "    print(\"\\n\")"
   ]
  },
  {
   "cell_type": "markdown",
   "metadata": {},
   "source": [
    "### Check Dropped Rows\n",
    "Another way to check is by opening the variable inspector and manually scrolling\n",
    "through the `df_dropped` DataFrame. "
   ]
  },
  {
   "cell_type": "markdown",
   "metadata": {},
   "source": [
    "The code below tells us whether or not there are files that contain no information for this section. If raw file count is the same as clean file count, then no files were dropped."
   ]
  },
  {
   "cell_type": "code",
   "execution_count": null,
   "metadata": {},
   "outputs": [],
   "source": [
    "print(\"Raw File Count: {}\".format(len(raw_df[\"filename\"].value_counts())))\n",
    "print(\"Clean File Count: {}\".format(len(clean_df[\"filename\"].value_counts())))"
   ]
  },
  {
   "cell_type": "markdown",
   "metadata": {},
   "source": [
    "If there are files that are completely dropped, find those files and look at them to check for parsing errors."
   ]
  },
  {
   "cell_type": "markdown",
   "metadata": {},
   "source": [
    "Check the rows value counts to see if any rows are being dropped that should not be."
   ]
  },
  {
   "cell_type": "code",
   "execution_count": null,
   "metadata": {},
   "outputs": [],
   "source": [
    "cols_to_check = dropped_df.columns\n",
    "cols_to_drop = [\"filename\", \"interviewee\"]\n",
    "\n",
    "cols_to_check = cols_to_check.drop(cols_to_drop)\n",
    "\n",
    "for col in cols_to_check:\n",
    "    print(\"*\" * 50)\n",
    "    print(\" \" * 5 + col)\n",
    "    print(dropped_df[col].value_counts(dropna=False))\n",
    "    print(\"*\" * 50)\n",
    "    print(\"\\n\")"
   ]
  },
  {
   "cell_type": "markdown",
   "metadata": {},
   "source": [
    "### Duplicate Rows"
   ]
  },
  {
   "cell_type": "code",
   "execution_count": null,
   "metadata": {},
   "outputs": [],
   "source": [
    "df_columns = clean_df.columns[clean_df.columns != \"filename\"]\n",
    "clean_df[clean_df.loc[:, df_columns].duplicated(keep=False)]"
   ]
  },
  {
   "cell_type": "markdown",
   "metadata": {},
   "source": [
    "## Experimental Code"
   ]
  },
  {
   "cell_type": "code",
   "execution_count": null,
   "metadata": {},
   "outputs": [],
   "source": [
    "# -------------------------------------------------------------------------- #\n",
    "# TESTING CODE\n",
    "process_file = \"-28 Raúl Roberto Guzmán.txt\"\n",
    "# process_file = \"--Encuesta Fao- Juan Basilio Carrizo.txt\"\n",
    "# process_file = \"67 Encuesta N° 2 - FAO cd.txt\"\n",
    "\n",
    "file_path = os.path.join(source_directory, process_file)\n",
    "\n",
    "file = open(file_path, \"r\")\n",
    "\n",
    "contents = file.read()\n",
    "contents = contents.lower()"
   ]
  },
  {
   "cell_type": "code",
   "execution_count": null,
   "metadata": {},
   "outputs": [],
   "source": [
    "section_5_1_data = []\n",
    "\n",
    "section_start = \"v-1:\"\n",
    "section_end = \"v-2:\"\n",
    "section_search = find_between(section_start, section_end, contents)\n",
    "\n",
    "if len(section_search) == 1:\n",
    "    section_string = section_search[0] + \"v-2:\"\n",
    "\n",
    "    product_list = [\"toro para carne \\/\\n\\nnovillo \\(\\+300 kg\\)\\n\", \"vaca\\n\", \"ternero\\n\", \"vaquilla\\n\", \n",
    "                    \"bovino macho\\n\\nreproductor\\n\", \"llama macho para carne\\n\", \"lama hembra\\n\",\n",
    "                    \"llama macho reproductor\\n\", \"borrego \\(macho joven\\)\\n\", \"cordero\\n\", \"capón\\n\",\n",
    "                    \"oveja\\n\", \"ovino macho adulto\\n\\npara carne\\n\", \n",
    "                    \"ovino macho reproductor\\n\", \"chivo \\(macho adulto\\)\\n\", \n",
    "                    \"caprino reproductor macho\\n\\nadulto \\(castrón\\)\\n\",\n",
    "                    \"cabra \\(hembra\\)\\n\", \"chivo capón \\(castrado\\)\\n\", \"cabrito \\/ chivito mamón\\n\",\n",
    "                    \"cabrito \\/ chivito lechón\\n\", \"burro macho\\n\", \"burro hembra\\n\",\n",
    "                    \"equino macho reproductor\\n\", \"equino macho para carne\\n\",\n",
    "                    \"equino hembra \\/ yegua\\n\", \"potrillo \\/ potranca\\n\", \n",
    "                    \"equino manso \\(macho \\/ hembra\\)\\n\", \"mular\\n\", \n",
    "                    \"cerdo macho reproductor \\(padrillo\\)\\n\", \"cerda \\(madre\\) hembra\\n\", \n",
    "                    \"maltón \\(cachorro\\)\\n\", \"cerdo capón \\(castrado\\) \\/ cerda para\\n\\ncarne\\n\",\n",
    "                    \"lechón \\/ lechona\\n\", \"cerdo macho adulto para carne\\n\", \"v-2:\"]\n",
    "    translation_list = [\"bull_or_steer_for_meat_300+kg\" ,\"cow\", \"calf\",\n",
    "                        \"heifer\", \"male_bovine_breeding\", \n",
    "                        \"male_llama_for_meat\", \"female_llama\", \n",
    "                        \"male_llama_breeding\", \"male_sheep_young\", \"lamb\",\n",
    "                        \"capon\", \"female_sheep\" ,\"male_sheep_adult_for_meat\",\n",
    "                        \"male_sheep_breeding\", \"male_goat\", \"male_goat_breeding\",\n",
    "                        \"female_goat\", \"male_goat_castrated\", \"goat_young_suckling\",\n",
    "                        \"goat_young_suckling\", \"male_donkey\", \"female_donkey\",\n",
    "                        \"male_equine_breeding\", \"male_equine_for_meat\",\n",
    "                        \"female_equine\", \"equine_young\", \"equine_tame\",\n",
    "                        \"mule\", \"male_pig_breeding\", \"female_pig_breeding\",\n",
    "                        \"puppy\", \"male_pig_castrated_or_for_meat\", \"pig_suckling\",\n",
    "                        \"male_pig_for_meat\"]\n",
    "    # column headers not including species column\n",
    "    column_headers = [\"has_sold\", \"month_of_sale_1\", \"number_1\", \n",
    "                      \"unit_price_1\", \"month_of_sale_2\", \"number_2\", \n",
    "                      \"unit_price_2\", \"month_of_sale_3\", \"number_3\",\n",
    "                      \"unit_price_3\", \"market_destination\"]\n",
    "\n",
    "    for i in range(len(product_list)-1):\n",
    "        item_dict = {}\n",
    "        item_1 = product_list[i]\n",
    "        item_2 = product_list[i+1]\n",
    "        term = translation_list[i]\n",
    "\n",
    "        row_search = find_between(item_1, item_2, section_string)\n",
    "\n",
    "        item_dict[\"species\"] = term\n",
    "\n",
    "        # if product row found\n",
    "        if len(row_search) == 1:\n",
    "            row_string = row_search[0]\n",
    "            row_list = row_string.split(\"\\n\")\n",
    "            row_list_len = len(row_list)\n",
    "            \n",
    "            # decide whether single newline or double newline formatting\n",
    "            # should be used to parse the information by column\n",
    "            # also check to see if unintentional newlines were added that\n",
    "            # would mess with parsing script\n",
    "            if row_list_len >=26:\n",
    "                # skip odd indexes (1, 3, 5, 7)\n",
    "                # drop first two rows (start count at -2)\n",
    "                \n",
    "                count = -3\n",
    "                if row_list[1] != \"\":\n",
    "                    count = -1\n",
    "                for j in range(row_list_len):\n",
    "                    if count > 20:\n",
    "                        break;\n",
    "                    if count >= 0 and count % 2 == 0:\n",
    "                        col = column_headers[count//2]\n",
    "                        entry = row_list[j]\n",
    "                        entry = entry.strip()\n",
    "                        item_dict[col] = entry\n",
    "                    count += 1\n",
    "                    \n",
    "            else:\n",
    "                for col in column_headers:\n",
    "                    item_dict[col] = \"UNENCOUNTERED FORMAT\"\n",
    "        else:\n",
    "            for col in column_headers:\n",
    "                item_dict[col] = \"UNENCOUNTERED FORMAT\"\n",
    "                \n",
    "        section_5_1_data.append(item_dict)\n",
    "else:\n",
    "    section_5_1_data = [{}]\n",
    "        \n",
    "raw_df = pd.DataFrame(section_5_1_data)"
   ]
  },
  {
   "cell_type": "code",
   "execution_count": null,
   "metadata": {},
   "outputs": [],
   "source": [
    "raw_df"
   ]
  }
 ],
 "metadata": {
  "kernelspec": {
   "display_name": "Python 3",
   "language": "python",
   "name": "python3"
  },
  "language_info": {
   "codemirror_mode": {
    "name": "ipython",
    "version": 3
   },
   "file_extension": ".py",
   "mimetype": "text/x-python",
   "name": "python",
   "nbconvert_exporter": "python",
   "pygments_lexer": "ipython3",
   "version": "3.8.5"
  }
 },
 "nbformat": 4,
 "nbformat_minor": 4
}

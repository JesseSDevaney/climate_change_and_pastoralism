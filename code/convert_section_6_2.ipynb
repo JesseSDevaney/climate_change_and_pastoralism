{
 "cells": [
  {
   "cell_type": "markdown",
   "metadata": {},
   "source": [
    "# Production Code"
   ]
  },
  {
   "cell_type": "code",
   "execution_count": null,
   "metadata": {},
   "outputs": [],
   "source": [
    "import os\n",
    "import re\n",
    "import numpy as np\n",
    "import pandas as pd\n",
    "\n",
    "source_directory = \"../surveys/plain_txt/\""
   ]
  },
  {
   "cell_type": "markdown",
   "metadata": {},
   "source": [
    "## Extract"
   ]
  },
  {
   "cell_type": "markdown",
   "metadata": {},
   "source": [
    "### Global Variables"
   ]
  },
  {
   "cell_type": "code",
   "execution_count": null,
   "metadata": {},
   "outputs": [],
   "source": [
    "# initialize the list of products we are capturing\n",
    "product_list = [\"maíz y polenta\", \"arroz\", \"fideos\", \"sorgo\", \"harina y trigo\",\n",
    "                \"maní\", \"miel\", \"legumbres\", \"yerba maté\", \"té\", \"café\",\n",
    "                \"azúcar\", \"aceite\", \"agua\", \"carne\", \"pescado\", \"pan\",\n",
    "                \"verduras y frutas\", \"lácteos\", \"condimentos\", \"sal\",\n",
    "                \"productos de recolección\", \"insumos\", \"levadura\", \"grasa\",\n",
    "                \"huevos\", \"vi-3:\"]\n",
    "translation_list = [\"corn_and_polenta\", \"rice\", \"pasta\", \"sorghum\",\n",
    "                    \"flour_and_wheat\", \"peanut\", \"honey\", \"legumes\",\n",
    "                    \"yerba_mate\", \"tea\", \"coffee\", \"sugar\", \"oil\", \"water\",\n",
    "                    \"meat\", \"fish\", \"bread\", \"vegetables_and_fruits\", \"dairy\",\n",
    "                    \"condiments\", \"salt\", \"harvest_products\", \"supplies\",\n",
    "                    \"yeast\", \"grease_or_fat\", \"eggs\"]\n",
    "# column headers not including species column\n",
    "column_headers = [\"has_bought\", \"quantity\", \"units\", \"periodicity_1\",\n",
    "                  \"number_of_periods_1\", \"periodicity_2\", \"number_of_periods_2\",\n",
    "                  \"minimum_unit_price_pesos\", \"maximum_unit_price_pesos\"]"
   ]
  },
  {
   "cell_type": "markdown",
   "metadata": {},
   "source": [
    "### Helper Functions"
   ]
  },
  {
   "cell_type": "code",
   "execution_count": null,
   "metadata": {},
   "outputs": [],
   "source": [
    "def find_between(str_1, str_2, contents):\n",
    "    regex_between = str_1 + r\"([\\w\\W]*)\" + str_2\n",
    "    regex_search = re.findall(regex_between, contents)\n",
    "\n",
    "    return regex_search"
   ]
  },
  {
   "cell_type": "markdown",
   "metadata": {},
   "source": [
    "### Parsing Functions"
   ]
  },
  {
   "cell_type": "code",
   "execution_count": null,
   "metadata": {},
   "outputs": [],
   "source": [
    "def parse_interviewee(contents):\n",
    "    name_regex = r\"nombre de la persona[^\\n:]*:[\\s]*([^\\n]*)\\n\"\n",
    "    name_search = re.findall(name_regex, contents)\n",
    "    if len(name_search) == 1:\n",
    "        name = name_search[0]\n",
    "        if name == \"3\":\n",
    "            name = \"N/A\"\n",
    "    else:\n",
    "        alt_name_regex = r\"nombre de la persona[^\\n\\(]*\\(\\w* +([^\\n]*)\\n\"\n",
    "        alt_name_search = re.findall(alt_name_regex, contents)\n",
    "        if len(alt_name_search) == 1:\n",
    "            name = alt_name_search[0]\n",
    "            if name == \"3\":\n",
    "                name = \"N/A\"\n",
    "        else:\n",
    "            name = \"UNENCOUNTERED FORMAT\"\n",
    "\n",
    "    name = name.strip()\n",
    "\n",
    "    return name\n",
    "\n",
    "\n",
    "def parse_date_range(section_search):\n",
    "    date_range = \"\"\n",
    "\n",
    "    if len(section_search) == 1:\n",
    "        section_string = section_search[0]\n",
    "\n",
    "        date_regex = r\"([\\w ]+\\d+ *[-–] *[\\w ]+\\d+)\"\n",
    "        date_search = re.findall(date_regex, section_string)\n",
    "\n",
    "        if len(date_search) == 1:\n",
    "            date_range = date_search[0]\n",
    "        else:\n",
    "            date_range = \"UNENCOUNTERED FORMAT\"\n",
    "    else:\n",
    "        date_range = \"UNENCOUNTERED FORMAT\"\n",
    "\n",
    "    return date_range\n",
    "\n",
    "\n",
    "def parse_section_6_2(section_search, product_list,\n",
    "                      translation_list, column_headers):\n",
    "    section_6_2_data = []\n",
    "\n",
    "    if len(section_search) == 1:\n",
    "        section_string = section_search[0] + \"vi-3:\"\n",
    "\n",
    "        for i in range(len(product_list)-1):\n",
    "            item_dict = {}\n",
    "            item_1 = product_list[i]\n",
    "            item_2 = product_list[i+1]\n",
    "            term = translation_list[i]\n",
    "\n",
    "            row_search = find_between(item_1, item_2, section_string)\n",
    "\n",
    "            item_dict[\"product\"] = term\n",
    "\n",
    "            # if product row found\n",
    "            if len(row_search) == 1:\n",
    "                row_string = row_search[0]\n",
    "                row_list = row_string.split(\"\\n\")\n",
    "                row_list_len = len(row_list)\n",
    "\n",
    "                if row_list_len >= 20:\n",
    "                    # skip odd indexes (1, 3, 5, 7)\n",
    "                    # drop first two rows (start count at -2)\n",
    "                    count = -2\n",
    "                    if (row_list[-1 * count] == \"\"\n",
    "                       and row_list[-1 * count + 2] != \"\"):\n",
    "                        count = -4\n",
    "\n",
    "                    for j in range(row_list_len):\n",
    "                        if count > 16:\n",
    "                            break\n",
    "                        if count >= 0 and count % 2 == 0:\n",
    "                            col = column_headers[count//2]\n",
    "                            entry = row_list[j]\n",
    "                            entry = entry.strip()\n",
    "                            item_dict[col] = entry\n",
    "                        count += 1\n",
    "\n",
    "                else:\n",
    "                    for col in column_headers:\n",
    "                        item_dict[col] = \"UNENCOUNTERED FORMAT\"\n",
    "            else:\n",
    "                for col in column_headers:\n",
    "                    item_dict[col] = \"UNENCOUNTERED FORMAT\"\n",
    "\n",
    "            section_6_2_data.append(item_dict)\n",
    "    else:\n",
    "        section_6_2_data = [{}]\n",
    "\n",
    "    return section_6_2_data\n",
    "\n",
    "\n",
    "def parse_otros_6_2(otros_search, column_headers):\n",
    "    otros_6_2_data = []\n",
    "\n",
    "    # parsing section for otros\n",
    "    if len(otros_search) == 1:\n",
    "        otros_string = otros_search[0]\n",
    "        otros_list = otros_string.split(\"\\n\")\n",
    "        otros_list = otros_list[1:]\n",
    "\n",
    "        if len(otros_list) >= 64:\n",
    "            # skip odd indexes (1, 3, 5, 7)\n",
    "            count = 0\n",
    "            count_restart = -2\n",
    "            count_end = 20\n",
    "\n",
    "            if len(otros_list) == 70:\n",
    "                count_restart = -4\n",
    "\n",
    "            item_dict = {}\n",
    "            for item in otros_list:\n",
    "                if count == count_end:\n",
    "                    count = count_restart\n",
    "                    otros_6_2_data.append(item_dict)\n",
    "                    item_dict = {}\n",
    "                if count == 0:\n",
    "                    stripped_item = item.strip()\n",
    "                    item_dict[\"product\"] = stripped_item\n",
    "                if count > 0 and count % 2 == 0:\n",
    "                    col = column_headers[(count-2)//2]\n",
    "                    stripped_item = item.strip()\n",
    "                    item_dict[col] = stripped_item\n",
    "                count += 1\n",
    "        else:\n",
    "            otros_6_2_data = [{}]\n",
    "    else:\n",
    "        otros_6_2_data = [{}]\n",
    "\n",
    "    return otros_6_2_data"
   ]
  },
  {
   "cell_type": "markdown",
   "metadata": {},
   "source": [
    "### Process the Whole File"
   ]
  },
  {
   "cell_type": "code",
   "execution_count": null,
   "metadata": {},
   "outputs": [],
   "source": [
    "def process_files(source_directory, product_list,\n",
    "                  translation_list, column_headers):\n",
    "    dataset = []\n",
    "\n",
    "    for process_file in os.listdir(source_directory):\n",
    "        file_path = os.path.join(source_directory, process_file)\n",
    "\n",
    "        # with statements automatically control the closing of files\n",
    "        with open(file_path, \"r\") as file:\n",
    "            contents = file.read()\n",
    "            contents = contents.lower()\n",
    "\n",
    "            section_start = \"vi-2:\"\n",
    "            section_end = \"vi-3:\"\n",
    "            # extract only the relevant section\n",
    "            section_search = find_between(section_start, section_end, contents)\n",
    "\n",
    "            otros_start = r\"vi-2[\\w\\W]*otros[^\\n]*\\n\"\n",
    "            otros_search = find_between(otros_start, section_end, contents)\n",
    "\n",
    "            interviewee = parse_interviewee(contents)\n",
    "            date_range = parse_date_range(section_search)\n",
    "            section_6_2_data = parse_section_6_2(section_search, product_list,\n",
    "                                                 translation_list, column_headers)\n",
    "            otros_6_2_data = parse_otros_6_2(otros_search, column_headers)\n",
    "\n",
    "            data_dict = {}\n",
    "\n",
    "            # check to make sure files contain the right amount of entries\n",
    "            if len(section_6_2_data) <= 1:\n",
    "                print(f\"Unencountered Format: {process_file}\\n\"\n",
    "                      + f\"Length of section_data: {len(section_6_2_data)}\\n\")\n",
    "\n",
    "            if len(otros_6_2_data) != 3 and len(otros_6_2_data) != 4:\n",
    "                print(f\"Unencountered Format: {process_file}\\n\"\n",
    "                      + f\"Length of otros_data: {len(otros_6_2_data)}\\n\")\n",
    "\n",
    "            for row in section_6_2_data:\n",
    "                data_dict = {}\n",
    "                data_dict[\"filename\"] = process_file\n",
    "                data_dict[\"interviewee\"] = interviewee\n",
    "                data_dict[\"date_range\"] = date_range\n",
    "\n",
    "                for key, value in row.items():\n",
    "                    data_dict[key] = value\n",
    "\n",
    "                dataset.append(data_dict)\n",
    "\n",
    "            for row in otros_6_2_data:\n",
    "                data_dict = {}\n",
    "                data_dict[\"filename\"] = process_file\n",
    "                data_dict[\"interviewee\"] = interviewee\n",
    "                data_dict[\"date_range\"] = date_range\n",
    "\n",
    "                for key, value in row.items():\n",
    "                    data_dict[key] = value\n",
    "\n",
    "                dataset.append(data_dict)\n",
    "\n",
    "    # convert list to DataFrame\n",
    "    raw_df = pd.DataFrame(data=dataset)\n",
    "\n",
    "    return raw_df"
   ]
  },
  {
   "cell_type": "markdown",
   "metadata": {},
   "source": [
    "## Transform"
   ]
  },
  {
   "cell_type": "markdown",
   "metadata": {},
   "source": [
    "### Helper Functions"
   ]
  },
  {
   "cell_type": "code",
   "execution_count": null,
   "metadata": {},
   "outputs": [],
   "source": [
    "def clean_date_range(dataf):\n",
    "    replace_dict = {\"agosto 2018 - agosto 2019\": \"august 2018-2019\",\n",
    "                    \"septiembre 2018 – septiembre 2019\": \"september 2018-2019\",\n",
    "                    \"octubre 2018 – octubre 2019\": \"october 2018-2019\",\n",
    "                    \"octubre 2018 - octubre 2019\": \"october 2018-2019\",\n",
    "                    \"octubre 2018 - octubre2019\": \"october 2018-2019\",\n",
    "                    \"octubre 2018 – octubre  2019\": \"october 2018-2019\",\n",
    "                    \"octubre  2018 – octubre 2019\": \"october 2018-2019\",\n",
    "                    \"octubre  2018 – septiembre 2019\": \"october 2018 - september 2019\"}\n",
    "    dataf[\"date_range\"] = dataf[\"date_range\"].replace(replace_dict)\n",
    "\n",
    "    return dataf\n",
    "\n",
    "\n",
    "def clean_has_bought(dataf):\n",
    "    map_dict = {\"si\": \"yes\",\n",
    "                \"ssi\": \"yes\",\n",
    "                \"s1\": \"yes\"}\n",
    "\n",
    "    dataf[\"has_bought\"] = dataf[\"has_bought\"].replace(map_dict)\n",
    "\n",
    "    return dataf\n",
    "\n",
    "\n",
    "def clean_quantity(dataf):\n",
    "    replace_dict = {\"0\": \"\",\n",
    "                    \"1/4\": \"0.25\",\n",
    "                    \"1/2\": \"0.5\",\n",
    "                    \"½\": \"0.5\"}\n",
    "    dataf[\"quantity\"] = dataf[\"quantity\"].replace(replace_dict)\n",
    "\n",
    "    # replace thousands separator with nothing so that it can be converted to\n",
    "    # float properly\n",
    "    replace_filter = dataf[\"quantity\"].str.contains(r\"[.,]?\\d{3}\", na=False)\n",
    "    replace_series = dataf[\"quantity\"].str.replace(\".\", \"\")\n",
    "    replace_series = replace_series.str.replace(\",\", \"\")\n",
    "\n",
    "    dataf[\"quantity\"] = dataf[\"quantity\"].where(~replace_filter, replace_series)\n",
    "\n",
    "    # handle decimal separator\n",
    "    replace_filter_period = dataf[\"quantity\"].str.contains(r\",\\d{1,2}\",\n",
    "                                                           na=False)\n",
    "    replace_series_period = dataf[\"quantity\"].str.replace(\",\", \".\")\n",
    "    dataf[\"quantity\"] = dataf[\"quantity\"].where(~replace_filter_period,\n",
    "                                                replace_series_period)\n",
    "\n",
    "    return dataf"
   ]
  },
  {
   "cell_type": "markdown",
   "metadata": {},
   "source": [
    "### Pipeline Functions"
   ]
  },
  {
   "cell_type": "code",
   "execution_count": null,
   "metadata": {},
   "outputs": [],
   "source": [
    "def start_pipeline(dataf):\n",
    "    return dataf.copy()\n",
    "\n",
    "\n",
    "def handle_null_data(dataf):\n",
    "    # fill missing values with null\n",
    "    dataf = dataf.replace(\"-\", \"\")\n",
    "    dataf = dataf.replace(\"\", np.NaN)\n",
    "\n",
    "    # drop rows which contain no information\n",
    "    isnull_sum = dataf.isnull().sum(axis=1)\n",
    "    drop_filter = ((isnull_sum >= 9)\n",
    "                   | ((isnull_sum >= 6) & (dataf[\"has_bought\"] == \"no\")))\n",
    "    drop_indexes = dataf[drop_filter].index\n",
    "\n",
    "    dataf = dataf.drop(drop_indexes)\n",
    "\n",
    "    return dataf\n",
    "\n",
    "\n",
    "def clean_values(dataf):\n",
    "    dataf = clean_date_range(dataf)\n",
    "    dataf = clean_has_bought(dataf)\n",
    "    dataf = clean_quantity(dataf)\n",
    "\n",
    "    return dataf"
   ]
  },
  {
   "cell_type": "markdown",
   "metadata": {},
   "source": [
    "### Create Raw and Cleaned DataFrame"
   ]
  },
  {
   "cell_type": "code",
   "execution_count": null,
   "metadata": {},
   "outputs": [],
   "source": [
    "raw_df = process_files(source_directory, product_list,\n",
    "                       translation_list, column_headers)\n",
    "\n",
    "clean_df = (raw_df\n",
    "            .pipe(start_pipeline)\n",
    "            .pipe(clean_values)\n",
    "            .pipe(handle_null_data))"
   ]
  },
  {
   "cell_type": "markdown",
   "metadata": {},
   "source": [
    "## Other\n",
    "### Functions to Check the Implementation"
   ]
  },
  {
   "cell_type": "code",
   "execution_count": null,
   "metadata": {},
   "outputs": [],
   "source": []
  },
  {
   "cell_type": "markdown",
   "metadata": {},
   "source": [
    "### Check Dropped Row"
   ]
  },
  {
   "cell_type": "code",
   "execution_count": null,
   "metadata": {},
   "outputs": [],
   "source": []
  },
  {
   "cell_type": "markdown",
   "metadata": {},
   "source": [
    "### Check Dropped Rows for Parsing Errors"
   ]
  },
  {
   "cell_type": "code",
   "execution_count": null,
   "metadata": {},
   "outputs": [],
   "source": []
  },
  {
   "cell_type": "markdown",
   "metadata": {},
   "source": [
    "## Load\n",
    "### Export to CSV"
   ]
  },
  {
   "cell_type": "code",
   "execution_count": null,
   "metadata": {},
   "outputs": [],
   "source": [
    "datasets_directory = \"../datasets/\"\n",
    "filename = \"section_6_2.csv\"\n",
    "file_path = os.path.join(datasets_directory, filename)\n",
    "\n",
    "clean_df.to_csv(file_path, index=False, na_rep=\"null\")"
   ]
  },
  {
   "cell_type": "markdown",
   "metadata": {},
   "source": [
    "### Create Dropped DataFrame"
   ]
  },
  {
   "cell_type": "markdown",
   "metadata": {},
   "source": [
    "***\n",
    "# Testing Code\n",
    "### View the Data"
   ]
  },
  {
   "cell_type": "code",
   "execution_count": null,
   "metadata": {},
   "outputs": [],
   "source": [
    "clean_df.head(50)"
   ]
  },
  {
   "cell_type": "markdown",
   "metadata": {},
   "source": [
    "### Check for Parsing Errors"
   ]
  },
  {
   "cell_type": "code",
   "execution_count": null,
   "metadata": {},
   "outputs": [],
   "source": [
    "clean_df[clean_df[\"units\"] == \"2\"]"
   ]
  },
  {
   "cell_type": "code",
   "execution_count": null,
   "metadata": {},
   "outputs": [],
   "source": [
    "df_check = clean_df[clean_df[\"product\"] == \"vegetables_and_fruits\"]\n",
    "\n",
    "cols_to_check = df_check.columns\n",
    "cols_to_drop = [\"filename\", \"interviewee\", \"date_range\"]\n",
    "\n",
    "cols_to_check = cols_to_check.drop(cols_to_drop)\n",
    "\n",
    "for col in cols_to_check:\n",
    "    print(\"*\" * 50)\n",
    "    print(\" \" * 5 + col)\n",
    "    print(df_check[col].value_counts(dropna=False))\n",
    "    print(\"*\" * 50)\n",
    "    print(\"\\n\")"
   ]
  },
  {
   "cell_type": "code",
   "execution_count": null,
   "metadata": {},
   "outputs": [],
   "source": [
    "cols_to_check = clean_df.columns\n",
    "cols_to_drop = [\"filename\", \"interviewee\", \"date_range\"]\n",
    "\n",
    "cols_to_check = cols_to_check.drop(cols_to_drop)\n",
    "\n",
    "for col in cols_to_check:\n",
    "    print(\"*\" * 50)\n",
    "    print(\" \" * 5 + col)\n",
    "    print(clean_df[col].value_counts(dropna=False))\n",
    "    print(\"*\" * 50)\n",
    "    print(\"\\n\")"
   ]
  },
  {
   "cell_type": "markdown",
   "metadata": {},
   "source": [
    "### Check Dropped Rows\n",
    "Another way to check is by opening the variable inspector and manually scrolling\n",
    "through the `df_dropped` DataFrame. "
   ]
  },
  {
   "cell_type": "markdown",
   "metadata": {},
   "source": [
    "The code below tells us whether or not there are files that contain no information for this section. If raw file count is the same as clean file count, then no files were dropped."
   ]
  },
  {
   "cell_type": "code",
   "execution_count": null,
   "metadata": {},
   "outputs": [],
   "source": [
    "print(\"Raw File Count: {}\".format(len(raw_df[\"filename\"].value_counts())))\n",
    "print(\"Clean File Count: {}\".format(len(clean_df[\"filename\"].value_counts())))"
   ]
  },
  {
   "cell_type": "markdown",
   "metadata": {},
   "source": [
    "If there are files that are completely dropped, find those files and look at them to check for parsing errors."
   ]
  },
  {
   "cell_type": "code",
   "execution_count": null,
   "metadata": {},
   "outputs": [],
   "source": [
    "raw_file_names = raw_df[\"filename\"].value_counts().index\n",
    "clean_file_names = clean_df[\"filename\"].value_counts().index\n",
    "\n",
    "raw_file_names[~raw_file_names.isin(clean_file_names)]"
   ]
  },
  {
   "cell_type": "markdown",
   "metadata": {},
   "source": [
    "Check the rows value counts to see if any rows are being dropped that should not be."
   ]
  },
  {
   "cell_type": "code",
   "execution_count": null,
   "metadata": {},
   "outputs": [],
   "source": [
    "cols_to_check = dropped_df.columns\n",
    "cols_to_drop = [\"filename\", \"interviewee\"]\n",
    "\n",
    "cols_to_check = cols_to_check.drop(cols_to_drop)\n",
    "\n",
    "for col in cols_to_check:\n",
    "    print(\"*\" * 50)\n",
    "    print(\" \" * 5 + col)\n",
    "    print(dropped_df[col].value_counts(dropna=False))\n",
    "    print(\"*\" * 50)\n",
    "    print(\"\\n\")"
   ]
  },
  {
   "cell_type": "markdown",
   "metadata": {},
   "source": [
    "### Duplicate Rows"
   ]
  },
  {
   "cell_type": "code",
   "execution_count": null,
   "metadata": {},
   "outputs": [],
   "source": [
    "df_columns = clean_df.columns[clean_df.columns != \"filename\"]\n",
    "clean_df[clean_df.loc[:, df_columns].duplicated(keep=False)]"
   ]
  }
 ],
 "metadata": {
  "kernelspec": {
   "display_name": "Python 3",
   "language": "python",
   "name": "python3"
  },
  "language_info": {
   "codemirror_mode": {
    "name": "ipython",
    "version": 3
   },
   "file_extension": ".py",
   "mimetype": "text/x-python",
   "name": "python",
   "nbconvert_exporter": "python",
   "pygments_lexer": "ipython3",
   "version": "3.8.5"
  }
 },
 "nbformat": 4,
 "nbformat_minor": 4
}

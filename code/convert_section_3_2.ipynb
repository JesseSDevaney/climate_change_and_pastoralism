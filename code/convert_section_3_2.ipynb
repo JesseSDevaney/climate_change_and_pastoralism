{
 "cells": [
  {
   "cell_type": "markdown",
   "metadata": {},
   "source": [
    "# Production Code"
   ]
  },
  {
   "cell_type": "code",
   "execution_count": null,
   "metadata": {},
   "outputs": [],
   "source": [
    "import os\n",
    "import re\n",
    "import numpy as np\n",
    "import pandas as pd\n",
    "\n",
    "source_directory = \"../surveys/plain_txt/\""
   ]
  },
  {
   "cell_type": "markdown",
   "metadata": {},
   "source": [
    "## Extract"
   ]
  },
  {
   "cell_type": "markdown",
   "metadata": {},
   "source": [
    "### Global Variables"
   ]
  },
  {
   "cell_type": "code",
   "execution_count": null,
   "metadata": {},
   "outputs": [],
   "source": [
    "# initialize the list of flow type we are capturing\n",
    "flow_list = [\"mortalidad animal\", \"robos\", \"matanza \\/ consumo\",\n",
    "             \"préstamos concedidos temporalmente \\(animales\\)\",\n",
    "             \"venta de animales\", \"otros \\(especificar\\)\", \n",
    "             \"partos \\(nacimientos\\)\", \"préstamos recibidos\", \n",
    "             \"compra de animales\", \"otros \\(especificar\\)\", \"iii-3\"]\n",
    "translation_list = [\"animal_death\", \"robbery\", \"slaughter_or_consumption\",\n",
    "                    \"loans_given\", \"sold\", \"others_outflow\", \"births\",\n",
    "                    \"loans_received\", \"purchased\", \"others_inflow\"]\n",
    "# column headers not including species column\n",
    "column_headers = [\"bovines\", \"sheep\", \"goats\", \"camelids\",\n",
    "                  \"donkeys\", \"equines\", \"pigs\"]"
   ]
  },
  {
   "cell_type": "markdown",
   "metadata": {},
   "source": [
    "### Helper Functions"
   ]
  },
  {
   "cell_type": "code",
   "execution_count": null,
   "metadata": {},
   "outputs": [],
   "source": [
    "def find_between(str_1, str_2, contents):\n",
    "    regex_between = str_1 + r\"([\\w\\W]*)\" + str_2\n",
    "    regex_search = re.findall(regex_between, contents)\n",
    "\n",
    "    return regex_search"
   ]
  },
  {
   "cell_type": "markdown",
   "metadata": {},
   "source": [
    "### Parsing Functions"
   ]
  },
  {
   "cell_type": "code",
   "execution_count": null,
   "metadata": {},
   "outputs": [],
   "source": [
    "def parse_interviewee(contents):\n",
    "    name_regex = r\"nombre de la persona[^\\n:]*:[\\s]*([^\\n]*)\\n\"\n",
    "    name_search = re.findall(name_regex, contents)\n",
    "    if len(name_search) == 1:\n",
    "        name = name_search[0]\n",
    "        if name == \"3\":\n",
    "            name = \"N/A\"\n",
    "    else:\n",
    "        alt_name_regex = r\"nombre de la persona[^\\n\\(]*\\(\\w* +([^\\n]*)\\n\"\n",
    "        alt_name_search = re.findall(alt_name_regex, contents)\n",
    "        if len(alt_name_search) == 1:\n",
    "            name = alt_name_search[0]\n",
    "            if name == \"3\":\n",
    "                name = \"N/A\"\n",
    "        else:\n",
    "            name = \"UNENCOUNTERED FORMAT\"\n",
    "\n",
    "    name = name.strip()\n",
    "\n",
    "    return name\n",
    "\n",
    "\n",
    "def parse_date_range(section_search):\n",
    "    date_range = \"\"\n",
    "\n",
    "    if len(section_search) == 1:\n",
    "        section_string = section_search[0]\n",
    "\n",
    "        date_regex = r\"([\\w ]+\\d+ *[-–] *[\\w ]+\\d+)\"\n",
    "        date_search = re.findall(date_regex, section_string)\n",
    "\n",
    "        if len(date_search) == 1:\n",
    "            date_range = date_search[0]\n",
    "        else:\n",
    "            date_range = \"UNENCOUNTERED FORMAT\"\n",
    "    else:\n",
    "        date_range = \"UNENCOUNTERED FORMAT\"\n",
    "\n",
    "    return date_range\n",
    "\n",
    "\n",
    "def parse_section_3_2(section_search, flow_list,\n",
    "                      translation_list, column_headers):\n",
    "    section_3_2_data = []\n",
    "\n",
    "    if len(section_search) == 1:\n",
    "        section_string = section_search[0] + \"iii-3\"\n",
    "\n",
    "        for i in range(len(flow_list)-1):\n",
    "            item_dict = {}\n",
    "            item_1 = flow_list[i]\n",
    "            item_2 = flow_list[i+1]\n",
    "            term = translation_list[i]\n",
    "\n",
    "            row_search = find_between(item_1, item_2, section_string)\n",
    "\n",
    "            item_dict[\"event\"] = term\n",
    "\n",
    "            if i <= 5:\n",
    "                item_dict[\"flow_type\"] = \"outflow\"\n",
    "            else:\n",
    "                item_dict[\"flow_type\"] = \"inflow\"\n",
    "\n",
    "            # if product row found\n",
    "            if len(row_search) == 1:\n",
    "                row_string = row_search[0]\n",
    "                row_list = row_string.split(\"\\n\")\n",
    "                row_list_len = len(row_list)\n",
    "\n",
    "                if row_list_len >= 18:\n",
    "                    # skip odd indexes (1, 3, 5, 7)\n",
    "                    # drop first two rows (start count at -2)\n",
    "                    count = -2\n",
    "                    if (row_list[-1 * count] == \"\"\n",
    "                       and row_list[-1 * count + 2] != \"\"):\n",
    "                        count -= 2\n",
    "\n",
    "                    for j in range(row_list_len):\n",
    "                        if count > 12:\n",
    "                            break\n",
    "                        if count >= 0 and count % 2 == 0:\n",
    "                            col = column_headers[count//2]\n",
    "                            entry = row_list[j]\n",
    "                            entry = entry.strip()\n",
    "                            item_dict[col] = entry\n",
    "                        count += 1\n",
    "\n",
    "                else:\n",
    "                    for col in column_headers:\n",
    "                        item_dict[col] = \"UNENCOUNTERED FORMAT\"\n",
    "            else:\n",
    "                for col in column_headers:\n",
    "                    item_dict[col] = \"UNENCOUNTERED FORMAT\"\n",
    "\n",
    "            section_3_2_data.append(item_dict)\n",
    "    else:\n",
    "        section_3_2_data = [{}]\n",
    "\n",
    "    return section_3_2_data"
   ]
  },
  {
   "cell_type": "markdown",
   "metadata": {},
   "source": [
    "### Process the Whole File"
   ]
  },
  {
   "cell_type": "code",
   "execution_count": null,
   "metadata": {},
   "outputs": [],
   "source": [
    "def process_files(source_directory, flow_list,\n",
    "                  translation_list, column_headers):\n",
    "    dataset = []\n",
    "\n",
    "    for process_file in os.listdir(source_directory):\n",
    "        file_path = os.path.join(source_directory, process_file)\n",
    "\n",
    "        # with statements automatically control the closing of files\n",
    "        with open(file_path, \"r\") as file:\n",
    "            contents = file.read()\n",
    "            contents = contents.lower()\n",
    "\n",
    "            data_dict = {}\n",
    "\n",
    "            interviewee = parse_interviewee(contents)\n",
    "\n",
    "            section_start = \"iii-2\"\n",
    "            section_end = \"iii-3\"\n",
    "            section_search = find_between(section_start, section_end, contents)\n",
    "\n",
    "            date_range = parse_date_range(section_search)\n",
    "\n",
    "            section_3_2_data = parse_section_3_2(section_search, flow_list,\n",
    "                                                 translation_list, column_headers)\n",
    "\n",
    "            if len(section_3_2_data) != 10:\n",
    "                print(f\"Unencountered Format: {process_file},\"\n",
    "                      + f\"Length of data: {len(section_3_2_data)}\")\n",
    "\n",
    "            for row in section_3_2_data:\n",
    "                data_dict = {}\n",
    "                data_dict[\"filename\"] = process_file\n",
    "                data_dict[\"interviewee\"] = interviewee\n",
    "                data_dict[\"date_range\"] = date_range\n",
    "\n",
    "                for key, value in row.items():\n",
    "                    data_dict[key] = value\n",
    "\n",
    "                dataset.append(data_dict)\n",
    "\n",
    "    # convert list to DataFrame\n",
    "    raw_df = pd.DataFrame(data=dataset)\n",
    "\n",
    "    return raw_df"
   ]
  },
  {
   "cell_type": "markdown",
   "metadata": {},
   "source": [
    "## Transform"
   ]
  },
  {
   "cell_type": "markdown",
   "metadata": {},
   "source": [
    "### Helper Functions"
   ]
  },
  {
   "cell_type": "code",
   "execution_count": null,
   "metadata": {},
   "outputs": [],
   "source": [
    "def transform_date_range(dataf):\n",
    "    replace_dict = {\"agosto 2018 - agosto 2019\": \"august 2018-2019\",\n",
    "                    \"septiembre 2018 - septiembre 2019\": \"september 2018-2019\",\n",
    "                    \"octubre 2018 – octubre 2019\": \"october 2018-2019\",\n",
    "                    \"octubre 2018 - octubre 2019\": \"october 2018-2019\"}\n",
    "    dataf[\"date_range\"] = dataf[\"date_range\"].replace(replace_dict)\n",
    "\n",
    "    return dataf"
   ]
  },
  {
   "cell_type": "markdown",
   "metadata": {},
   "source": [
    "### Pipeline Functions"
   ]
  },
  {
   "cell_type": "code",
   "execution_count": null,
   "metadata": {},
   "outputs": [],
   "source": [
    "def start_pipeline(dataf):\n",
    "    return dataf.copy()\n",
    "\n",
    "\n",
    "def handle_null_data(dataf):\n",
    "    # fill missing values with null\n",
    "    dataf = dataf.replace(\"\", np.NaN)\n",
    "\n",
    "    # drop rows which contain no information\n",
    "    isnull_sum = dataf.isnull().sum(axis=1)\n",
    "    drop_filter = isnull_sum >= 7\n",
    "    drop_indexes = dataf[drop_filter].index\n",
    "\n",
    "    dataf = dataf.drop(drop_indexes)\n",
    "\n",
    "    return dataf\n",
    "\n",
    "\n",
    "def clean_columns(dataf):\n",
    "    # standardize values\n",
    "    map_dict = {\"1 (parto)\": \"1\",\n",
    "                \"2 (parto)\": \"2\",\n",
    "                \"o\": \"0\"}\n",
    "\n",
    "    cols = dataf.columns\n",
    "    for col in cols:\n",
    "        dataf[col] = dataf[col].replace(map_dict)\n",
    "\n",
    "    return dataf\n",
    "\n",
    "\n",
    "def transform_values(dataf):\n",
    "    dataf = transform_date_range(dataf)\n",
    "\n",
    "    return dataf"
   ]
  },
  {
   "cell_type": "markdown",
   "metadata": {},
   "source": [
    "### Create Raw and Cleaned DataFrame"
   ]
  },
  {
   "cell_type": "code",
   "execution_count": null,
   "metadata": {},
   "outputs": [],
   "source": [
    "raw_df = process_files(source_directory, flow_list,\n",
    "                       translation_list, column_headers)\n",
    "\n",
    "clean_df = (raw_df\n",
    "            .pipe(start_pipeline)\n",
    "            .pipe(clean_columns)\n",
    "            .pipe(handle_null_data)\n",
    "            .pipe(transform_values))"
   ]
  },
  {
   "cell_type": "markdown",
   "metadata": {},
   "source": [
    "## Other\n",
    "### Functions to Check the Implementation"
   ]
  },
  {
   "cell_type": "code",
   "execution_count": null,
   "metadata": {},
   "outputs": [],
   "source": [
    "def get_dropped_df(raw_dataf, clean_dataf):\n",
    "    raw_indexes = raw_dataf.index\n",
    "    clean_indexes = clean_dataf.index\n",
    "\n",
    "    dropped_indexes = raw_indexes[~raw_indexes.isin(clean_indexes)]\n",
    "    dropped_df = raw_dataf.loc[dropped_indexes].copy()\n",
    "\n",
    "    return dropped_df"
   ]
  },
  {
   "cell_type": "markdown",
   "metadata": {},
   "source": [
    "### Create Dropped DataFrame\n",
    "Create the `dropped_df` and collect the rows which contain no non-null values"
   ]
  },
  {
   "cell_type": "code",
   "execution_count": null,
   "metadata": {},
   "outputs": [],
   "source": [
    "dropped_df = get_dropped_df(raw_df, clean_df)\n",
    "\n",
    "null_df = dropped_df.loc[:, [\"filename\", \"event\"]]"
   ]
  },
  {
   "cell_type": "markdown",
   "metadata": {},
   "source": [
    "### Check Dropped Row"
   ]
  },
  {
   "cell_type": "code",
   "execution_count": null,
   "metadata": {},
   "outputs": [],
   "source": [
    "def get_dropped_row(section_search, event,\n",
    "                    flow_list, translation_list):\n",
    "    dropped_row = {}\n",
    "\n",
    "    if len(section_search) == 1:\n",
    "        section_string = section_search[0] + \"iii-3\"\n",
    "\n",
    "        dropped_row[\"event\"] = event\n",
    "\n",
    "        flow_index = translation_list.index(event)\n",
    "        item_1 = flow_list[flow_index]\n",
    "        item_2 = flow_list[flow_index + 1]\n",
    "\n",
    "        row_search = find_between(item_1, item_2, section_string)\n",
    "\n",
    "        # if product row found\n",
    "        if len(row_search) == 1:\n",
    "            row_string = row_search[0]\n",
    "            row_list = row_string.split(\"\\n\")\n",
    "            row_list_len = len(row_list)\n",
    "\n",
    "            if row_list_len >= 18:\n",
    "                count = -2\n",
    "                for j in range(row_list_len):\n",
    "                    if count > 12:\n",
    "                        break\n",
    "                    if count >= 0:\n",
    "                        col = str(count)\n",
    "                        entry = row_list[j]\n",
    "                        entry = entry.strip()\n",
    "                        dropped_row[col] = entry\n",
    "                    count += 1\n",
    "\n",
    "            else:\n",
    "                for j in range(12):\n",
    "                    dropped_row[str(j)] = \"UNENCOUNTERED FORMAT\"\n",
    "        else:\n",
    "            for j in range(12):\n",
    "                dropped_row[str(j)] = \"UNENCOUNTERED FORMAT\"\n",
    "    else:\n",
    "        dropped_row = {}\n",
    "\n",
    "    return dropped_row"
   ]
  },
  {
   "cell_type": "markdown",
   "metadata": {},
   "source": [
    "### Check Dropped Rows for Parsing Errors"
   ]
  },
  {
   "cell_type": "code",
   "execution_count": null,
   "metadata": {},
   "outputs": [],
   "source": [
    "def check_dropped_rows(source_directory, flow_list, translation_list, s):\n",
    "    process_file = s[\"filename\"]\n",
    "    event = s[\"event\"]\n",
    "\n",
    "    check_dict = {}\n",
    "\n",
    "    file_path = os.path.join(source_directory, process_file)\n",
    "\n",
    "    # with statements automatically control the closing of files\n",
    "    with open(file_path, \"r\") as file:\n",
    "        contents = file.read()\n",
    "        contents = contents.lower()\n",
    "\n",
    "        section_start = \"iii-2\"\n",
    "        section_end = \"iii-3\"\n",
    "        section_search = find_between(section_start, section_end, contents)\n",
    "\n",
    "        dropped_row = get_dropped_row(section_search, event,\n",
    "                                      flow_list, translation_list)\n",
    "\n",
    "        # check to make sure files contain the right amount of entries\n",
    "        if len(dropped_row) <= 1:\n",
    "            print(f\"Unencountered Format: {process_file}\\n\"\n",
    "                  + f\"Length of data: {len(dropped_row)}\\n\")\n",
    "\n",
    "        check_dict[\"filename\"] = process_file\n",
    "\n",
    "        for key, value in dropped_row.items():\n",
    "            check_dict[key] = value\n",
    "\n",
    "    # convert list to Series\n",
    "    check_series = pd.Series(data=check_dict)\n",
    "\n",
    "    return check_series"
   ]
  },
  {
   "cell_type": "code",
   "execution_count": null,
   "metadata": {},
   "outputs": [],
   "source": [
    "check_df = null_df.apply(lambda s: check_dropped_rows(source_directory,\n",
    "                                                      flow_list,\n",
    "                                                      translation_list,\n",
    "                                                      s),\n",
    "                         axis=1)"
   ]
  },
  {
   "cell_type": "code",
   "execution_count": null,
   "metadata": {},
   "outputs": [],
   "source": [
    "def drop_null_check(dataf):\n",
    "    # fill missing values with null\n",
    "    dataf = dataf.replace(\"\", np.NaN)\n",
    "\n",
    "    # drop rows which contain no information\n",
    "    isnull_sum = dataf.isnull().sum(axis=1)\n",
    "    drop_filter = isnull_sum >= 13\n",
    "    drop_indexes = dataf[drop_filter].index\n",
    "\n",
    "    dataf = dataf.drop(drop_indexes)\n",
    "\n",
    "    return dataf"
   ]
  },
  {
   "cell_type": "code",
   "execution_count": null,
   "metadata": {},
   "outputs": [],
   "source": [
    "non_null_df = (check_df\n",
    "               .pipe(start_pipeline)\n",
    "               .pipe(drop_null_check))"
   ]
  },
  {
   "cell_type": "code",
   "execution_count": null,
   "metadata": {},
   "outputs": [],
   "source": [
    "non_null_df"
   ]
  },
  {
   "cell_type": "markdown",
   "metadata": {},
   "source": [
    "## Load\n",
    "### Export to CSV"
   ]
  },
  {
   "cell_type": "code",
   "execution_count": null,
   "metadata": {},
   "outputs": [],
   "source": [
    "if non_null_df.shape[0] == 0:\n",
    "    datasets_directory = \"../datasets/\"\n",
    "    filename = \"section_3_2.csv\"\n",
    "    file_path = os.path.join(datasets_directory, filename)\n",
    "\n",
    "    clean_df.to_csv(file_path, index=False, na_rep=\"null\")\n",
    "\n",
    "    print(f\"Exported to {filename}\")\n",
    "else:\n",
    "    print(\"Error: Dropped rows contain non-null values\")"
   ]
  },
  {
   "cell_type": "markdown",
   "metadata": {},
   "source": [
    "***\n",
    "# Testing Code\n",
    "### View the Data"
   ]
  },
  {
   "cell_type": "code",
   "execution_count": null,
   "metadata": {},
   "outputs": [],
   "source": [
    "clean_df.head(50)"
   ]
  },
  {
   "cell_type": "markdown",
   "metadata": {},
   "source": [
    "### Check for Parsing Errors"
   ]
  },
  {
   "cell_type": "code",
   "execution_count": null,
   "metadata": {},
   "outputs": [],
   "source": [
    "cols_to_check = clean_df.columns\n",
    "cols_to_drop = [\"filename\", \"interviewee\"]\n",
    "\n",
    "cols_to_check = cols_to_check.drop(cols_to_drop)\n",
    "\n",
    "for col in cols_to_check:\n",
    "    print(\"*\" * 50)\n",
    "    print(\" \" * 5 + col)\n",
    "    print(clean_df[col].value_counts(dropna=False))\n",
    "    print(\"*\" * 50)\n",
    "    print(\"\\n\")"
   ]
  },
  {
   "cell_type": "markdown",
   "metadata": {},
   "source": [
    "### Check Dropped Rows\n",
    "Another way to check is by opening the variable inspector and manually scrolling\n",
    "through the `df_dropped` DataFrame. "
   ]
  },
  {
   "cell_type": "markdown",
   "metadata": {},
   "source": [
    "The code below tells us whether or not there are files that contain no information for this section. If raw file count is the same as clean file count, then no files were dropped."
   ]
  },
  {
   "cell_type": "code",
   "execution_count": null,
   "metadata": {},
   "outputs": [],
   "source": [
    "print(\"Raw File Count: {}\".format(len(raw_df[\"filename\"].value_counts())))\n",
    "print(\"Clean File Count: {}\".format(len(clean_df[\"filename\"].value_counts())))"
   ]
  },
  {
   "cell_type": "markdown",
   "metadata": {},
   "source": [
    "If there are files that are completely dropped, find those files and look at them to check for parsing errors."
   ]
  },
  {
   "cell_type": "code",
   "execution_count": null,
   "metadata": {},
   "outputs": [],
   "source": [
    "raw_file_names = raw_df[\"filename\"].value_counts().index\n",
    "clean_file_names = clean_df[\"filename\"].value_counts().index\n",
    "\n",
    "raw_file_names[~raw_file_names.isin(clean_file_names)]"
   ]
  },
  {
   "cell_type": "markdown",
   "metadata": {},
   "source": [
    "Check the rows value counts to see if any rows are being dropped that should not be."
   ]
  },
  {
   "cell_type": "code",
   "execution_count": null,
   "metadata": {},
   "outputs": [],
   "source": [
    "cols_to_check = dropped_df.columns\n",
    "cols_to_drop = [\"filename\", \"interviewee\"]\n",
    "\n",
    "cols_to_check = cols_to_check.drop(cols_to_drop)\n",
    "\n",
    "for col in cols_to_check:\n",
    "    print(\"*\" * 50)\n",
    "    print(\" \" * 5 + col)\n",
    "    print(dropped_df[col].value_counts(dropna=False))\n",
    "    print(\"*\" * 50)\n",
    "    print(\"\\n\")"
   ]
  },
  {
   "cell_type": "markdown",
   "metadata": {},
   "source": [
    "### Duplicate Rows"
   ]
  },
  {
   "cell_type": "code",
   "execution_count": null,
   "metadata": {},
   "outputs": [],
   "source": [
    "df_columns = clean_df.columns[clean_df.columns != \"filename\"]\n",
    "clean_df[clean_df.loc[:, df_columns].duplicated(keep=False)]"
   ]
  }
 ],
 "metadata": {
  "kernelspec": {
   "display_name": "Python 3",
   "language": "python",
   "name": "python3"
  },
  "language_info": {
   "codemirror_mode": {
    "name": "ipython",
    "version": 3
   },
   "file_extension": ".py",
   "mimetype": "text/x-python",
   "name": "python",
   "nbconvert_exporter": "python",
   "pygments_lexer": "ipython3",
   "version": "3.8.5"
  }
 },
 "nbformat": 4,
 "nbformat_minor": 4
}

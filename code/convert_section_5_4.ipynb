{
 "cells": [
  {
   "cell_type": "markdown",
   "metadata": {},
   "source": [
    "# Production Code"
   ]
  },
  {
   "cell_type": "code",
   "execution_count": null,
   "metadata": {},
   "outputs": [],
   "source": [
    "import os\n",
    "import re\n",
    "import numpy as np\n",
    "import pandas as pd\n",
    "\n",
    "source_directory = \"../surveys/plain_txt/\""
   ]
  },
  {
   "cell_type": "markdown",
   "metadata": {},
   "source": [
    "## Extract"
   ]
  },
  {
   "cell_type": "markdown",
   "metadata": {},
   "source": [
    "### Global Variables"
   ]
  },
  {
   "cell_type": "code",
   "execution_count": null,
   "metadata": {},
   "outputs": [],
   "source": [
    "column_headers = [\"order_number\", \"renumerations_number_of_month\",\n",
    "                  \"renumerations_monthly_amount\", \"transfers_number_of_times\",\n",
    "                  \"transfers_unit_amount\", \"subsidies_number_of_month\",\n",
    "                  \"subsidies_monthly_amount\", \"other\"]"
   ]
  },
  {
   "cell_type": "markdown",
   "metadata": {},
   "source": [
    "### Helper Functions"
   ]
  },
  {
   "cell_type": "code",
   "execution_count": null,
   "metadata": {},
   "outputs": [],
   "source": [
    "def find_between(str_1, str_2, contents):\n",
    "    regex_between = str_1 + r\"([\\w\\W]*)\" + str_2\n",
    "    regex_search = re.findall(regex_between, contents)\n",
    "\n",
    "    return regex_search"
   ]
  },
  {
   "cell_type": "markdown",
   "metadata": {},
   "source": [
    "### Parsing Functions"
   ]
  },
  {
   "cell_type": "code",
   "execution_count": null,
   "metadata": {},
   "outputs": [],
   "source": [
    "def parse_interviewee(contents):\n",
    "    name_regex = r\"nombre de la persona[^\\n:]*:[\\s]*([^\\n]*)\\n\"\n",
    "    name_search = re.findall(name_regex, contents)\n",
    "    if len(name_search) == 1:\n",
    "        name = name_search[0]\n",
    "        if name == \"3\":\n",
    "            name = \"N/A\"\n",
    "    else:\n",
    "        alt_name_regex = r\"nombre de la persona[^\\n\\(]*\\(\\w* +([^\\n]*)\\n\"\n",
    "        alt_name_search = re.findall(alt_name_regex, contents)\n",
    "        if len(alt_name_search) == 1:\n",
    "            name = alt_name_search[0]\n",
    "            if name == \"3\":\n",
    "                name = \"N/A\"\n",
    "        else:\n",
    "            name = \"UNENCOUNTERED FORMAT\"\n",
    "\n",
    "    name = name.strip()\n",
    "\n",
    "    return name\n",
    "\n",
    "\n",
    "def parse_date_range(section_search):\n",
    "    date_range = \"\"\n",
    "\n",
    "    if len(section_search) == 1:\n",
    "        section_string = section_search[0]\n",
    "\n",
    "        date_regex = r\"([\\w ]+\\d+ *[-–] *[\\w ]+\\d+)\"\n",
    "        date_search = re.findall(date_regex, section_string)\n",
    "\n",
    "        if len(date_search) == 1:\n",
    "            date_range = date_search[0]\n",
    "        else:\n",
    "            date_range = \"UNENCOUNTERED FORMAT\"\n",
    "    else:\n",
    "        date_range = \"UNENCOUNTERED FORMAT\"\n",
    "\n",
    "    return date_range\n",
    "\n",
    "\n",
    "def parse_section_5_4(section_search, column_headers):\n",
    "    section_5_4_data = []\n",
    "\n",
    "    if len(section_search) == 1:\n",
    "        section_string = section_search[0] + \"sección vi:\"\n",
    "\n",
    "        table_start = r\"monto mensual\\n{4}\"\n",
    "        table_end = r\"sección vi:\"\n",
    "        table_search = find_between(table_start, table_end, section_string)\n",
    "\n",
    "        table_otros_start = r\"monto mensual\\n{2}\\d+\\n{2}\"\n",
    "        table_otros_search = find_between(table_otros_start, table_end,\n",
    "                                          section_string)\n",
    "\n",
    "        entry = {}\n",
    "\n",
    "        if len(table_search) == 1:\n",
    "            table_string = table_search[0]\n",
    "\n",
    "            if re.search(\"\\n\", table_string):\n",
    "                table_list = table_string.split(\"\\n\")\n",
    "\n",
    "                # count until 16, skip odd indexes (1, 3, 5, 7, ...)\n",
    "                count = 0\n",
    "                for item in table_list:\n",
    "                    item = item.strip()\n",
    "                    if count == 16:\n",
    "                        section_5_4_data.append(entry)\n",
    "                        entry = {}\n",
    "                        count = 0\n",
    "                    if count % 2 == 0:\n",
    "                        col = column_headers[count//2]\n",
    "                        entry[col] = item\n",
    "                    count += 1\n",
    "            else:\n",
    "                for col in column_headers:\n",
    "                    entry[col] = \"UNENCOUNTERED FORMAT\"\n",
    "                section_5_4_data.append(entry)\n",
    "        elif len(table_otros_search) == 1:\n",
    "\n",
    "            table_string = table_otros_search[0]\n",
    "\n",
    "            if re.search(\"\\n\", table_string):\n",
    "                table_list = table_string.split(\"\\n\")\n",
    "\n",
    "                # count until 16, skip odd indexes (1, 3, 5, 7, ...)\n",
    "                count = 0\n",
    "                for item in table_list:\n",
    "                    item = item.strip()\n",
    "                    if count == 16:\n",
    "                        section_5_4_data.append(entry)\n",
    "                        entry = {}\n",
    "                        count = 0\n",
    "                    if count % 2 == 0:\n",
    "                        col = column_headers[count//2]\n",
    "                        entry[col] = item\n",
    "                    count += 1\n",
    "            else:\n",
    "                for col in column_headers:\n",
    "                    entry[col] = \"UNENCOUNTERED FORMAT\"\n",
    "                section_5_4_data.append(entry)\n",
    "\n",
    "            # capture otros amount\n",
    "            entry = {}\n",
    "            otros_search = re.findall(r\"monto mensual\\n{2}(\\d+)\\n{2}\",\n",
    "                                      section_string)\n",
    "\n",
    "            if len(otros_search) == 1:\n",
    "                for col in column_headers:\n",
    "                    if col == \"other\":\n",
    "                        entry[col] = otros_search[0]\n",
    "                    else:\n",
    "                        entry[col] = \"\"\n",
    "                section_5_4_data.append(entry)\n",
    "        else:\n",
    "            for col in column_headers:\n",
    "                entry[col] = \"UNENCOUNTERED FORMAT\"\n",
    "            section_5_4_data.append(entry)\n",
    "    else:\n",
    "        section_5_4_data = [{}]\n",
    "\n",
    "    return section_5_4_data"
   ]
  },
  {
   "cell_type": "markdown",
   "metadata": {},
   "source": [
    "### Process the Whole File"
   ]
  },
  {
   "cell_type": "code",
   "execution_count": null,
   "metadata": {},
   "outputs": [],
   "source": [
    "def process_files(source_directory, column_headers):\n",
    "    dataset = []\n",
    "\n",
    "    for process_file in os.listdir(source_directory):\n",
    "        file_path = os.path.join(source_directory, process_file)\n",
    "\n",
    "        # with statements automatically control the closing of files\n",
    "        with open(file_path, \"r\") as file:\n",
    "            contents = file.read()\n",
    "            contents = contents.lower()\n",
    "\n",
    "            section_start = \"v-4: otros ingresos\"\n",
    "            section_end = \"sección vi:\"\n",
    "            section_search = find_between(section_start, section_end, contents)\n",
    "\n",
    "            interviewee = parse_interviewee(contents)\n",
    "            date_range = parse_date_range(section_search)\n",
    "            section_5_4_data = parse_section_5_4(section_search, column_headers)\n",
    "\n",
    "            data_dict = {}\n",
    "\n",
    "            # check to make sure files contain the right amount of entries\n",
    "            if len(section_5_4_data) <= 1:\n",
    "                print(f\"Unencountered Format: {process_file}\\n\"\n",
    "                      + f\"Length of section_data: {len(section_5_4_data)}\\n\")\n",
    "\n",
    "            for row in section_5_4_data:\n",
    "                data_dict = {}\n",
    "                data_dict[\"filename\"] = process_file\n",
    "                data_dict[\"interviewee\"] = interviewee\n",
    "                data_dict[\"date_range\"] = date_range\n",
    "\n",
    "                for key, value in row.items():\n",
    "                    data_dict[key] = value\n",
    "\n",
    "                dataset.append(data_dict)\n",
    "\n",
    "    # convert list to DataFrame\n",
    "    raw_df = pd.DataFrame(data=dataset)\n",
    "\n",
    "    return raw_df"
   ]
  },
  {
   "cell_type": "markdown",
   "metadata": {},
   "source": [
    "## Transform"
   ]
  },
  {
   "cell_type": "markdown",
   "metadata": {},
   "source": [
    "### Helper Functions"
   ]
  },
  {
   "cell_type": "code",
   "execution_count": null,
   "metadata": {},
   "outputs": [],
   "source": [
    "def clean_date_range(dataf):\n",
    "    replace_dict = {\"agosto 2018 - agosto 2019\": \"august 2018-2019\",\n",
    "                    \"septiembre 2018 - septiembre 2019\": \"september 2018-2019\",\n",
    "                    \"octubre 2018 – octubre 2019\": \"october 2018-2019\",\n",
    "                    \"octubre 2018 - octubre 2019\": \"october 2018-2019\",\n",
    "                    \"octubre 2018 - octubre2019\": \"october 2018-2019\",\n",
    "                    \"octubre 2018 – octubre  2019\": \"october 2018-2019\"}\n",
    "    dataf[\"date_range\"] = dataf[\"date_range\"].replace(replace_dict)\n",
    "\n",
    "    return dataf\n",
    "\n",
    "\n",
    "def clean_order_number(dataf):\n",
    "    replace_dict = {\"01\": \"1\",\n",
    "                    \"02\": \"2\"}\n",
    "    dataf[\"order_number\"] = dataf[\"order_number\"].replace(replace_dict)\n",
    "\n",
    "    return dataf\n",
    "\n",
    "\n",
    "def clean_amounts(dataf):\n",
    "    amount_cols = [\"renumerations_monthly_amount\",\n",
    "                   \"transfers_unit_amount\",\n",
    "                   \"subsidies_monthly_amount\"]\n",
    "\n",
    "    for col in amount_cols:\n",
    "        # handle thousands separator\n",
    "        replace_filter = dataf[col].str.contains(r\"\\.\\d{3}\", na=False)\n",
    "        replace_series = dataf[col].str.replace(\".\", \"\")\n",
    "\n",
    "        dataf[col] = dataf[col].where(~replace_filter, replace_series)\n",
    "\n",
    "        # drop $ from amount\n",
    "        dataf[col] = dataf[col].str.replace(\"$\", \"\")\n",
    "        dataf[col] = dataf[col].str.replace(\"*\", \"\")\n",
    "\n",
    "    return dataf\n",
    "\n",
    "\n",
    "def clean_runumeration_num_months(dataf):\n",
    "    replace_dict = {\"4 al 11\": \"4-11\",\n",
    "                    \"11 al 4\": \"11-4\",\n",
    "                    \"4 al 10\": \"4-10\",\n",
    "                    \"3 al 11\": \"3-11\",\n",
    "                    \"4 al 12\": \"4-12\",\n",
    "                    \"6 al 12\": \"6-12\",\n",
    "                    \"3 al 10\": \"3-10\",\n",
    "                    \"2 al 10\": \"2-10\",\n",
    "                    \"07 al 12\": \"7-12\",\n",
    "                    \"4 al 7\": \"4-7\",\n",
    "                    \"12 meses\": \"12\",\n",
    "                    \"5 al 10\": \"5-10\",\n",
    "                    \"6 meses\": \"6\",\n",
    "                    \"4 al 8\": \"4-8\"}\n",
    "    dataf[\"renumerations_number_of_month\"] = dataf[\"renumerations_number_of_month\"].replace(replace_dict)\n",
    "\n",
    "    return dataf\n",
    "\n",
    "\n",
    "def clean_transfer_num_times(dataf):\n",
    "    replace_dict = {\"ninguno\": \"0\",\n",
    "                    \"2 veces x año\": \"2\",\n",
    "                    \"ningun\": \"0\",\n",
    "                    \"2 x año\": \"2\"}\n",
    "    dataf[\"transfers_number_of_times\"] = dataf[\"transfers_number_of_times\"].replace(replace_dict)\n",
    "\n",
    "    return dataf\n",
    "\n",
    "\n",
    "def clean_subsidies_num_month(dataf):\n",
    "    replace_dict = {\"ninguno\": \"0\"}\n",
    "    dataf[\"subsidies_number_of_month\"] = dataf[\"subsidies_number_of_month\"].replace(replace_dict)\n",
    "\n",
    "    return dataf"
   ]
  },
  {
   "cell_type": "markdown",
   "metadata": {},
   "source": [
    "### Pipeline Functions"
   ]
  },
  {
   "cell_type": "code",
   "execution_count": null,
   "metadata": {},
   "outputs": [],
   "source": [
    "def start_pipeline(dataf):\n",
    "    return dataf.copy()\n",
    "\n",
    "\n",
    "def handle_null_data(dataf):\n",
    "    # fill missing values with null\n",
    "    dataf = dataf.replace(\"-\", np.NaN)\n",
    "    dataf = dataf.replace(\"\", np.NaN)\n",
    "\n",
    "    # drop rows which contain no information\n",
    "    isnull_sum = dataf.isnull().sum(axis=1)\n",
    "    drop_filter = isnull_sum >= 8\n",
    "    drop_indexes = dataf[drop_filter].index\n",
    "\n",
    "    dataf = dataf.drop(drop_indexes)\n",
    "\n",
    "    return dataf\n",
    "\n",
    "\n",
    "def clean_values(dataf):\n",
    "    dataf = clean_date_range(dataf)\n",
    "    dataf = clean_order_number(dataf)\n",
    "    dataf = clean_amounts(dataf)\n",
    "    dataf = clean_runumeration_num_months(dataf)\n",
    "    dataf = clean_transfer_num_times(dataf)\n",
    "    dataf = clean_subsidies_num_month(dataf)\n",
    "\n",
    "    return dataf"
   ]
  },
  {
   "cell_type": "markdown",
   "metadata": {},
   "source": [
    "### Create Raw and Cleaned DataFrame"
   ]
  },
  {
   "cell_type": "code",
   "execution_count": null,
   "metadata": {},
   "outputs": [],
   "source": [
    "raw_df = process_files(source_directory, column_headers)\n",
    "\n",
    "clean_df = (raw_df\n",
    "            .pipe(start_pipeline)\n",
    "            .pipe(clean_values)\n",
    "            .pipe(handle_null_data))"
   ]
  },
  {
   "cell_type": "markdown",
   "metadata": {},
   "source": [
    "## Other\n",
    "### Functions to Check the Implementation"
   ]
  },
  {
   "cell_type": "code",
   "execution_count": null,
   "metadata": {},
   "outputs": [],
   "source": [
    "def get_dropped_df(raw_dataf, clean_dataf):\n",
    "    raw_indexes = raw_dataf.index\n",
    "    clean_indexes = clean_dataf.index\n",
    "\n",
    "    dropped_indexes = raw_indexes[~raw_indexes.isin(clean_indexes)]\n",
    "    dropped_df = raw_dataf.loc[dropped_indexes].copy()\n",
    "\n",
    "    return dropped_df"
   ]
  },
  {
   "cell_type": "markdown",
   "metadata": {},
   "source": [
    "### Create Dropped DataFrame"
   ]
  },
  {
   "cell_type": "code",
   "execution_count": null,
   "metadata": {},
   "outputs": [],
   "source": [
    "dropped_df = get_dropped_df(raw_df, clean_df)"
   ]
  },
  {
   "cell_type": "markdown",
   "metadata": {},
   "source": [
    "## Load\n",
    "### Export to CSV"
   ]
  },
  {
   "cell_type": "code",
   "execution_count": null,
   "metadata": {},
   "outputs": [],
   "source": [
    "datasets_directory = \"../datasets/\"\n",
    "filename = \"section_5_4.csv\"\n",
    "file_path = os.path.join(datasets_directory, filename)\n",
    "\n",
    "clean_df.to_csv(file_path, index=False, na_rep=\"null\")"
   ]
  },
  {
   "cell_type": "markdown",
   "metadata": {},
   "source": [
    "***\n",
    "# Testing Code\n",
    "### View the Data"
   ]
  },
  {
   "cell_type": "code",
   "execution_count": null,
   "metadata": {},
   "outputs": [],
   "source": [
    "clean_df.head(50)"
   ]
  },
  {
   "cell_type": "markdown",
   "metadata": {},
   "source": [
    "### Check for Parsing Errors"
   ]
  },
  {
   "cell_type": "code",
   "execution_count": null,
   "metadata": {},
   "outputs": [],
   "source": [
    "cols_to_check = clean_df.columns\n",
    "cols_to_drop = [\"filename\", \"interviewee\"]\n",
    "\n",
    "cols_to_check = cols_to_check.drop(cols_to_drop)\n",
    "\n",
    "for col in cols_to_check:\n",
    "    print(\"*\" * 50)\n",
    "    print(\" \" * 5 + col)\n",
    "    print(clean_df[col].value_counts(dropna=False))\n",
    "    print(\"*\" * 50)\n",
    "    print(\"\\n\")"
   ]
  },
  {
   "cell_type": "markdown",
   "metadata": {},
   "source": [
    "### Check Dropped Rows\n",
    "Another way to check is by opening the variable inspector and manually scrolling\n",
    "through the `df_dropped` DataFrame. "
   ]
  },
  {
   "cell_type": "markdown",
   "metadata": {},
   "source": [
    "The code below tells us whether or not there are files that contain no information for this section. If raw file count is the same as clean file count, then no files were dropped."
   ]
  },
  {
   "cell_type": "code",
   "execution_count": null,
   "metadata": {},
   "outputs": [],
   "source": [
    "print(\"Raw File Count: {}\".format(len(raw_df[\"filename\"].value_counts())))\n",
    "print(\"Clean File Count: {}\".format(len(clean_df[\"filename\"].value_counts())))"
   ]
  },
  {
   "cell_type": "markdown",
   "metadata": {},
   "source": [
    "If there are files that are completely dropped, find those files and look at them to check for parsing errors."
   ]
  },
  {
   "cell_type": "code",
   "execution_count": null,
   "metadata": {},
   "outputs": [],
   "source": [
    "raw_file_names = raw_df[\"filename\"].value_counts().index\n",
    "clean_file_names = clean_df[\"filename\"].value_counts().index\n",
    "\n",
    "for file in raw_file_names[~raw_file_names.isin(clean_file_names)]:\n",
    "    print(file)"
   ]
  },
  {
   "cell_type": "markdown",
   "metadata": {},
   "source": [
    "Check the rows value counts to see if any rows are being dropped that should not be."
   ]
  },
  {
   "cell_type": "code",
   "execution_count": null,
   "metadata": {},
   "outputs": [],
   "source": [
    "cols_to_check = dropped_df.columns\n",
    "cols_to_drop = [\"filename\", \"interviewee\"]\n",
    "\n",
    "cols_to_check = cols_to_check.drop(cols_to_drop)\n",
    "\n",
    "for col in cols_to_check:\n",
    "    print(\"*\" * 50)\n",
    "    print(\" \" * 5 + col)\n",
    "    print(dropped_df[col].value_counts(dropna=False))\n",
    "    print(\"*\" * 50)\n",
    "    print(\"\\n\")"
   ]
  },
  {
   "cell_type": "markdown",
   "metadata": {},
   "source": [
    "### Duplicate Rows"
   ]
  },
  {
   "cell_type": "code",
   "execution_count": null,
   "metadata": {},
   "outputs": [],
   "source": [
    "df_columns = clean_df.columns[clean_df.columns != \"filename\"]\n",
    "clean_df[clean_df.loc[:, df_columns].duplicated(keep=False)]"
   ]
  }
 ],
 "metadata": {
  "kernelspec": {
   "display_name": "Python 3",
   "language": "python",
   "name": "python3"
  },
  "language_info": {
   "codemirror_mode": {
    "name": "ipython",
    "version": 3
   },
   "file_extension": ".py",
   "mimetype": "text/x-python",
   "name": "python",
   "nbconvert_exporter": "python",
   "pygments_lexer": "ipython3",
   "version": "3.8.5"
  }
 },
 "nbformat": 4,
 "nbformat_minor": 4
}

{
 "cells": [
  {
   "cell_type": "markdown",
   "metadata": {},
   "source": [
    "# Production Code"
   ]
  },
  {
   "cell_type": "code",
   "execution_count": null,
   "metadata": {},
   "outputs": [],
   "source": [
    "import os\n",
    "import re\n",
    "import numpy as np\n",
    "import pandas as pd\n",
    "\n",
    "source_directory = \"../surveys/plain_txt/\""
   ]
  },
  {
   "cell_type": "markdown",
   "metadata": {},
   "source": [
    "## Extract"
   ]
  },
  {
   "cell_type": "markdown",
   "metadata": {},
   "source": [
    "### Global Variables"
   ]
  },
  {
   "cell_type": "code",
   "execution_count": null,
   "metadata": {},
   "outputs": [],
   "source": [
    "cause_list = [\"falta de pastos?\", \"falta ?de agua\", \"estr[eé]ss? térmico\",\n",
    "              \"enfermedades\", \"robos\", \"desapariciones\", \"predadores\",\n",
    "              \"otros\", \"sección iv\"]\n",
    "translation_list = [\"lack_of_pasture\", \"lack_of_water\", \"heat_stress\",\n",
    "                    \"diseases\", \"theft\", \"disappearancse\", \"predators\",\n",
    "                    \"other\"]\n",
    "option_list = [\"yes, always\", \"no, never\", \"sometimes\"]"
   ]
  },
  {
   "cell_type": "markdown",
   "metadata": {},
   "source": [
    "### Helper Functions"
   ]
  },
  {
   "cell_type": "code",
   "execution_count": null,
   "metadata": {},
   "outputs": [],
   "source": [
    "def find_between(str_1, str_2, contents):\n",
    "    regex_between = str_1 + r\"([\\w\\W]*)\" + str_2\n",
    "    regex_search = re.findall(regex_between, contents)\n",
    "\n",
    "    return regex_search"
   ]
  },
  {
   "cell_type": "markdown",
   "metadata": {},
   "source": [
    "### Parsing Functions"
   ]
  },
  {
   "cell_type": "code",
   "execution_count": null,
   "metadata": {},
   "outputs": [],
   "source": [
    "grab_list = []"
   ]
  },
  {
   "cell_type": "code",
   "execution_count": null,
   "metadata": {},
   "outputs": [],
   "source": [
    "def parse_interviewee(contents):\n",
    "    name_regex = r\"nombre de la persona[^\\n:]*:[\\s]*([^\\n]*)\\n\"\n",
    "    name_search = re.findall(name_regex, contents)\n",
    "    if len(name_search) == 1:\n",
    "        name = name_search[0]\n",
    "        if name == \"3\":\n",
    "            name = \"N/A\"\n",
    "    else:\n",
    "        alt_name_regex = r\"nombre de la persona[^\\n\\(]*\\(\\w* +([^\\n]*)\\n\"\n",
    "        alt_name_search = re.findall(alt_name_regex, contents)\n",
    "        if len(alt_name_search) == 1:\n",
    "            name = alt_name_search[0]\n",
    "            if name == \"3\":\n",
    "                name = \"N/A\"\n",
    "        else:\n",
    "            name = \"UNENCOUNTERED FORMAT\"\n",
    "\n",
    "    name = name.strip()\n",
    "\n",
    "    return name\n",
    "\n",
    "\n",
    "def parse_section_3_3(section_search, cause_list,\n",
    "                      translation_list, option_list):\n",
    "\n",
    "    section_3_3_dict = {}\n",
    "\n",
    "    if len(section_search) == 1:\n",
    "        section_string = section_search[0] + \"sección iv\"\n",
    "\n",
    "        for i in range(len(cause_list)-1):\n",
    "            item_1 = cause_list[i]\n",
    "            item_2 = cause_list[i+1]\n",
    "            term = translation_list[i]\n",
    "\n",
    "            row_search = find_between(item_1, item_2, section_string)\n",
    "\n",
    "            if len(row_search) == 1:\n",
    "                row_string = row_search[0]\n",
    "\n",
    "                selection_regex = r\"[|i][_ ]*([x*]*)[_ ]*[|i]\"\n",
    "                selection_search = re.findall(selection_regex, row_string)\n",
    "\n",
    "                if len(selection_search) == 3:\n",
    "                    match_regex = r\"[x*]\"\n",
    "\n",
    "                    if re.match(match_regex, selection_search[0]):\n",
    "                        section_3_3_dict[term] = option_list[0]\n",
    "                    elif re.match(match_regex, selection_search[1]):\n",
    "                        section_3_3_dict[term] = option_list[1]\n",
    "                    elif re.match(match_regex, selection_search[2]):\n",
    "                        section_3_3_dict[term] = option_list[2]\n",
    "                    else:\n",
    "                        check_regex = \"sí[^\\n]*\\n\"\n",
    "                        check_search = re.findall(check_regex, row_string)\n",
    "                        check_string = check_search[0]\n",
    "\n",
    "                        drop_list = [\n",
    "                            \"sí, siempre |__|\\t\\t      no, nunca |__|\\t\\ta veces |__|\\n\",\n",
    "                            \"sí, siempre |__|\\t      no, nunca |__|\\ta veces |__|\\n\",\n",
    "                            \"sí, siempre |__|\\t  no, nunca |__|\\t       a veces |__|\\n\",\n",
    "                            \"sí, siempre |_  |\\t\\t      no, nunca |__|\\t\\ta veces |  _|\\n\",\n",
    "                            \"sí, siempre |__|\\t\\tno, nunca |__|\\t\\ta veces |__|\\n\",\n",
    "                            \"sí, siempre |_|\\t      no, nunca |__|\\ta veces |_| \\n\",\n",
    "                            \"sí, siempre | |\\t      no, nunca |__|\\ta veces |_| \\n\",\n",
    "                            \"sí, siempre |_ _|\\t      no, nunca |__|\\ta veces |__|\\n\",\n",
    "                            \"sí, siempre |__|\\t      no, nunca |__|\\ta veces |_ |\\n\",\n",
    "                            \"sí, siempre |__|\\t\\xa0 \\xa0 \\xa0 no, nunca |__|\\ta veces |__|\\n\",\n",
    "                            \"sí, siempre |__|\\t\\t      no, nunca |__|\\t\\ta veces |  _|\\n\",\n",
    "                            \"sí, siempre |__|\\t\\t      no, nunca |__|\\t\\ta veces |_ |\\n\"\n",
    "                        ]\n",
    "\n",
    "                        fix_list = []\n",
    "\n",
    "                        if check_string in drop_list:\n",
    "                            section_3_3_dict[term] = \"NONE SELECTED\"\n",
    "                        elif check_string in fix_list:\n",
    "                            section_3_3_dict[term] = \"CHECK THIS\"\n",
    "                        else:\n",
    "                            section_3_3_dict[term] = \"UNENCOUNTERED FORMAT 3\"\n",
    "                else:\n",
    "                    section_3_3_dict[term] = \"UNENCOUNTERED FORMAT 2\"\n",
    "            else:\n",
    "                section_3_3_dict[term] = \"UNENCOUNTERED FORMAT\"\n",
    "    else:\n",
    "        section_3_3_dict = [{}]\n",
    "\n",
    "    # capture other field\n",
    "    if len(section_search) == 1:\n",
    "        section_string = section_search[0] + \"sección iv\"\n",
    "\n",
    "        description_start = \"especificar\\)\"\n",
    "        description_end = \"sí\"\n",
    "        other_search = find_between(description_start, description_end,\n",
    "                                    section_string)\n",
    "\n",
    "        if len(other_search) == 1:\n",
    "            other_string = other_search[0]\n",
    "            other_string = other_string.strip()\n",
    "\n",
    "            section_3_3_dict[\"other_description\"] = other_string\n",
    "        else:\n",
    "            section_3_3_dict[\"other_description\"] = \"UNENCOUNTERED FORMAT\"\n",
    "\n",
    "    return section_3_3_dict"
   ]
  },
  {
   "cell_type": "markdown",
   "metadata": {},
   "source": [
    "### Process the Whole File"
   ]
  },
  {
   "cell_type": "code",
   "execution_count": null,
   "metadata": {},
   "outputs": [],
   "source": [
    "def process_files(source_directory, cause_list,\n",
    "                  translation_list, option_list):\n",
    "    dataset = []\n",
    "\n",
    "    for process_file in os.listdir(source_directory):\n",
    "        file_path = os.path.join(source_directory, process_file)\n",
    "\n",
    "        # with statements automatically control the closing of files\n",
    "        with open(file_path, \"r\") as file:\n",
    "            contents = file.read()\n",
    "            contents = contents.lower()\n",
    "\n",
    "            data_dict = {}\n",
    "\n",
    "            section_start = \"iii-3\"\n",
    "            section_end = \"sección iv\"\n",
    "            section_search = find_between(section_start, section_end, contents)\n",
    "\n",
    "            interviewee = parse_interviewee(contents)\n",
    "            section_3_3_dict = parse_section_3_3(section_search, cause_list,\n",
    "                                                 translation_list, option_list)\n",
    "\n",
    "            # check to make sure files contain the right amount of entries\n",
    "            if len(section_3_3_dict) != 9:\n",
    "                print(f\"Unencountered Format: {process_file}\\n\"\n",
    "                      + f\"Length of section_dict: {len(section_3_3_dict)}\\n\")\n",
    "\n",
    "            data_dict = {}\n",
    "            data_dict[\"filename\"] = process_file\n",
    "            data_dict[\"interviewee\"] = interviewee\n",
    "\n",
    "            for key, value in section_3_3_dict.items():\n",
    "                data_dict[key] = value\n",
    "\n",
    "            dataset.append(data_dict)\n",
    "\n",
    "    # convert list to DataFrame\n",
    "    raw_df = pd.DataFrame(data=dataset)\n",
    "\n",
    "    return raw_df"
   ]
  },
  {
   "cell_type": "markdown",
   "metadata": {},
   "source": [
    "## Transform"
   ]
  },
  {
   "cell_type": "markdown",
   "metadata": {},
   "source": [
    "### Pipeline Functions"
   ]
  },
  {
   "cell_type": "code",
   "execution_count": null,
   "metadata": {},
   "outputs": [],
   "source": [
    "def start_pipeline(dataf):\n",
    "    return dataf.copy()\n",
    "\n",
    "\n",
    "def handle_null_data(dataf):\n",
    "    # fill missing values with null\n",
    "    dataf = dataf.replace(\"NONE SELECTED\", np.NaN)\n",
    "\n",
    "    # drop rows which contain no information\n",
    "    isnull_sum = dataf.isnull().sum(axis=1)\n",
    "    drop_filter = isnull_sum >= 9\n",
    "    drop_indexes = dataf[drop_filter].index\n",
    "\n",
    "    dataf = dataf.drop(drop_indexes)\n",
    "\n",
    "    return dataf"
   ]
  },
  {
   "cell_type": "markdown",
   "metadata": {},
   "source": [
    "### Create Raw and Cleaned DataFrame"
   ]
  },
  {
   "cell_type": "code",
   "execution_count": null,
   "metadata": {},
   "outputs": [],
   "source": [
    "raw_df = process_files(source_directory, cause_list,\n",
    "                       translation_list, option_list)\n",
    "\n",
    "clean_df = (raw_df\n",
    "            .pipe(start_pipeline)\n",
    "            .pipe(handle_null_data))"
   ]
  },
  {
   "cell_type": "markdown",
   "metadata": {},
   "source": [
    "## Other\n",
    "### Functions to Check the Implementation"
   ]
  },
  {
   "cell_type": "code",
   "execution_count": null,
   "metadata": {},
   "outputs": [],
   "source": [
    "def get_dropped_df(raw_dataf, clean_dataf):\n",
    "    raw_indexes = raw_dataf.index\n",
    "    clean_indexes = clean_dataf.index\n",
    "\n",
    "    dropped_indexes = raw_indexes[~raw_indexes.isin(clean_indexes)]\n",
    "    dropped_df = raw_dataf.loc[dropped_indexes].copy()\n",
    "\n",
    "    return dropped_df"
   ]
  },
  {
   "cell_type": "markdown",
   "metadata": {},
   "source": [
    "### Create Dropped DataFrame"
   ]
  },
  {
   "cell_type": "code",
   "execution_count": null,
   "metadata": {},
   "outputs": [],
   "source": [
    "dropped_df = get_dropped_df(raw_df, clean_df)"
   ]
  },
  {
   "cell_type": "markdown",
   "metadata": {},
   "source": [
    "## Load\n",
    "### Export to CSV"
   ]
  },
  {
   "cell_type": "code",
   "execution_count": null,
   "metadata": {},
   "outputs": [],
   "source": [
    "datasets_directory = \"../datasets/\"\n",
    "filename = \"section_3_3.csv\"\n",
    "file_path = os.path.join(datasets_directory, filename)\n",
    "\n",
    "clean_df.to_csv(file_path, index=False, na_rep=\"null\")"
   ]
  },
  {
   "cell_type": "markdown",
   "metadata": {},
   "source": [
    "***\n",
    "# Testing Code\n",
    "### View the Data"
   ]
  },
  {
   "cell_type": "code",
   "execution_count": null,
   "metadata": {},
   "outputs": [],
   "source": [
    "clean_df.head(10)"
   ]
  },
  {
   "cell_type": "markdown",
   "metadata": {},
   "source": [
    "### Check for Parsing Errors"
   ]
  },
  {
   "cell_type": "code",
   "execution_count": null,
   "metadata": {},
   "outputs": [],
   "source": [
    "cols_to_check = clean_df.columns\n",
    "cols_to_drop = [\"filename\", \"interviewee\"]\n",
    "\n",
    "cols_to_check = cols_to_check.drop(cols_to_drop)\n",
    "\n",
    "for col in cols_to_check:\n",
    "    print(\"*\" * 50)\n",
    "    print(\" \" * 5 + col)\n",
    "    print(clean_df[col].value_counts(dropna=False))\n",
    "    print(\"*\" * 50)\n",
    "    print(\"\\n\")"
   ]
  },
  {
   "cell_type": "markdown",
   "metadata": {},
   "source": [
    "### Check Dropped Rows\n",
    "Another way to check is by opening the variable inspector and manually scrolling\n",
    "through the `df_dropped` DataFrame. "
   ]
  },
  {
   "cell_type": "markdown",
   "metadata": {},
   "source": [
    "The code below tells us whether or not there are files that contain no information for this section. If raw file count is the same as clean file count, then no files were dropped."
   ]
  },
  {
   "cell_type": "code",
   "execution_count": null,
   "metadata": {},
   "outputs": [],
   "source": [
    "print(\"Raw File Count: {}\".format(len(raw_df[\"filename\"].value_counts())))\n",
    "print(\"Clean File Count: {}\".format(len(clean_df[\"filename\"].value_counts())))"
   ]
  },
  {
   "cell_type": "markdown",
   "metadata": {},
   "source": [
    "If there are files that are completely dropped, find those files and look at them to check for parsing errors."
   ]
  },
  {
   "cell_type": "code",
   "execution_count": null,
   "metadata": {},
   "outputs": [],
   "source": [
    "raw_file_names = raw_df[\"filename\"].value_counts().index\n",
    "clean_file_names = clean_df[\"filename\"].value_counts().index\n",
    "\n",
    "raw_file_names[~raw_file_names.isin(clean_file_names)]"
   ]
  },
  {
   "cell_type": "markdown",
   "metadata": {},
   "source": [
    "Check the rows value counts to see if any rows are being dropped that should not be."
   ]
  },
  {
   "cell_type": "code",
   "execution_count": null,
   "metadata": {},
   "outputs": [],
   "source": [
    "cols_to_check = dropped_df.columns\n",
    "cols_to_drop = [\"filename\", \"interviewee\"]\n",
    "\n",
    "cols_to_check = cols_to_check.drop(cols_to_drop)\n",
    "\n",
    "for col in cols_to_check:\n",
    "    print(\"*\" * 50)\n",
    "    print(\" \" * 5 + col)\n",
    "    print(dropped_df[col].value_counts(dropna=False))\n",
    "    print(\"*\" * 50)\n",
    "    print(\"\\n\")"
   ]
  },
  {
   "cell_type": "markdown",
   "metadata": {},
   "source": [
    "### Duplicate Rows"
   ]
  },
  {
   "cell_type": "code",
   "execution_count": null,
   "metadata": {},
   "outputs": [],
   "source": [
    "df_columns = clean_df.columns[clean_df.columns != \"filename\"]\n",
    "clean_df[clean_df.loc[:, df_columns].duplicated(keep=False)]"
   ]
  }
 ],
 "metadata": {
  "kernelspec": {
   "display_name": "Python 3",
   "language": "python",
   "name": "python3"
  },
  "language_info": {
   "codemirror_mode": {
    "name": "ipython",
    "version": 3
   },
   "file_extension": ".py",
   "mimetype": "text/x-python",
   "name": "python",
   "nbconvert_exporter": "python",
   "pygments_lexer": "ipython3",
   "version": "3.8.5"
  }
 },
 "nbformat": 4,
 "nbformat_minor": 4
}
